{
 "cells": [
  {
   "cell_type": "code",
   "execution_count": 1,
   "metadata": {},
   "outputs": [],
   "source": [
    "import numpy as np\n",
    "import urllib.request\n",
    "from tensorflow.keras.utils import to_categorical"
   ]
  },
  {
   "cell_type": "code",
   "execution_count": 2,
   "metadata": {},
   "outputs": [],
   "source": [
    "urllib.request.urlretrieve(\"http://www.gutenberg.org/files/11/11-0.txt\", filename = '11-0.txt')\n",
    "f = open('11-0.txt', 'rb')\n",
    "lines = []\n",
    "for line in f:\n",
    "    line = line.strip()\n",
    "    line = line.lower()\n",
    "    line = line.decode('ascii', 'ignore')\n",
    "    if len(line)>0:\n",
    "        lines.append(line)\n",
    "f.close()"
   ]
  },
  {
   "cell_type": "code",
   "execution_count": 3,
   "metadata": {},
   "outputs": [
    {
     "data": {
      "text/plain": [
       "['the project gutenberg ebook of alices adventures in wonderland, by lewis carroll',\n",
       " 'this ebook is for the use of anyone anywhere at no cost and with',\n",
       " 'almost no restrictions whatsoever.  you may copy it, give it away or',\n",
       " 're-use it under the terms of the project gutenberg license included',\n",
       " 'with this ebook or online at www.gutenberg.org']"
      ]
     },
     "execution_count": 3,
     "metadata": {},
     "output_type": "execute_result"
    }
   ],
   "source": [
    "lines[:5]"
   ]
  },
  {
   "cell_type": "code",
   "execution_count": 4,
   "metadata": {},
   "outputs": [
    {
     "name": "stdout",
     "output_type": "stream",
     "text": [
      "문자열의 길이는 159612\n"
     ]
    }
   ],
   "source": [
    "text = ' '.join(lines)\n",
    "print('문자열의 길이는 %d' %len(text))"
   ]
  },
  {
   "cell_type": "code",
   "execution_count": 5,
   "metadata": {},
   "outputs": [
    {
     "name": "stdout",
     "output_type": "stream",
     "text": [
      "the project gutenberg ebook of alices adventures in wonderland, by lewis carroll this ebook is for the use of anyone anywhere at no cost and with almost no restrictions whatsoever.  you may copy it, g\n"
     ]
    }
   ],
   "source": [
    "print(text[:200])"
   ]
  },
  {
   "cell_type": "code",
   "execution_count": 6,
   "metadata": {},
   "outputs": [
    {
     "name": "stdout",
     "output_type": "stream",
     "text": [
      "글자 집합의 크기는 57\n"
     ]
    }
   ],
   "source": [
    "char_vocab = sorted(list(set(text)))\n",
    "vocab_size = len(char_vocab)\n",
    "print('글자 집합의 크기는 {}'.format(vocab_size))"
   ]
  },
  {
   "cell_type": "code",
   "execution_count": 7,
   "metadata": {},
   "outputs": [
    {
     "name": "stdout",
     "output_type": "stream",
     "text": [
      "{' ': 0, '!': 1, '\"': 2, '#': 3, '$': 4, '%': 5, \"'\": 6, '(': 7, ')': 8, '*': 9, ',': 10, '-': 11, '.': 12, '/': 13, '0': 14, '1': 15, '2': 16, '3': 17, '4': 18, '5': 19, '6': 20, '7': 21, '8': 22, '9': 23, ':': 24, ';': 25, '?': 26, '@': 27, '[': 28, ']': 29, '_': 30, 'a': 31, 'b': 32, 'c': 33, 'd': 34, 'e': 35, 'f': 36, 'g': 37, 'h': 38, 'i': 39, 'j': 40, 'k': 41, 'l': 42, 'm': 43, 'n': 44, 'o': 45, 'p': 46, 'q': 47, 'r': 48, 's': 49, 't': 50, 'u': 51, 'v': 52, 'w': 53, 'x': 54, 'y': 55, 'z': 56}\n"
     ]
    }
   ],
   "source": [
    "char_to_index = dict((c,i) for i,c in enumerate(char_vocab))\n",
    "print(char_to_index)"
   ]
  },
  {
   "cell_type": "code",
   "execution_count": 8,
   "metadata": {},
   "outputs": [],
   "source": [
    "index_to_char = {}\n",
    "for key, value in char_to_index.items():\n",
    "    index_to_char[value] = key"
   ]
  },
  {
   "cell_type": "code",
   "execution_count": 9,
   "metadata": {},
   "outputs": [
    {
     "name": "stdout",
     "output_type": "stream",
     "text": [
      "문장 샘플의 수 : 2660\n"
     ]
    }
   ],
   "source": [
    "seq_length = 60\n",
    "n_samples = int(np.floor((len(text)-1)/seq_length))\n",
    "print('문장 샘플의 수 : {}'.format(n_samples))"
   ]
  },
  {
   "cell_type": "code",
   "execution_count": 10,
   "metadata": {},
   "outputs": [],
   "source": [
    "train_X = []\n",
    "train_y = []\n",
    "\n",
    "for i in range(n_samples):\n",
    "    X_sample = text[i*seq_length:(i+1)*seq_length]\n",
    "    X_encoded = [char_to_index[c] for c in X_sample]\n",
    "    train_X.append(X_encoded)\n",
    "    \n",
    "    y_sample = text[i*seq_length+1:(i+1)*seq_length+1]\n",
    "    y_encoded = [char_to_index[c] for c in y_sample]\n",
    "    train_y.append(y_encoded)"
   ]
  },
  {
   "cell_type": "code",
   "execution_count": 11,
   "metadata": {},
   "outputs": [
    {
     "name": "stdout",
     "output_type": "stream",
     "text": [
      "[50, 38, 35, 0, 46, 48, 45, 40, 35, 33, 50, 0, 37, 51, 50, 35, 44, 32, 35, 48, 37, 0, 35, 32, 45, 45, 41, 0, 45, 36, 0, 31, 42, 39, 33, 35, 49, 0, 31, 34, 52, 35, 44, 50, 51, 48, 35, 49, 0, 39, 44, 0, 53, 45, 44, 34, 35, 48, 42, 31]\n"
     ]
    }
   ],
   "source": [
    "print(train_X[0])"
   ]
  },
  {
   "cell_type": "code",
   "execution_count": 12,
   "metadata": {},
   "outputs": [
    {
     "name": "stdout",
     "output_type": "stream",
     "text": [
      "[38, 35, 0, 46, 48, 45, 40, 35, 33, 50, 0, 37, 51, 50, 35, 44, 32, 35, 48, 37, 0, 35, 32, 45, 45, 41, 0, 45, 36, 0, 31, 42, 39, 33, 35, 49, 0, 31, 34, 52, 35, 44, 50, 51, 48, 35, 49, 0, 39, 44, 0, 53, 45, 44, 34, 35, 48, 42, 31, 44]\n"
     ]
    }
   ],
   "source": [
    "print(train_y[0])"
   ]
  },
  {
   "cell_type": "code",
   "execution_count": 13,
   "metadata": {},
   "outputs": [],
   "source": [
    "train_X = to_categorical(train_X)\n",
    "train_y = to_categorical(train_y)"
   ]
  },
  {
   "cell_type": "code",
   "execution_count": 15,
   "metadata": {},
   "outputs": [
    {
     "name": "stdout",
     "output_type": "stream",
     "text": [
      "train_X의 크기 : (2660, 60, 57)\n",
      "train_y의 크기 : (2660, 60, 57)\n"
     ]
    }
   ],
   "source": [
    "print('train_X의 크기 : {}'.format(train_X.shape))\n",
    "print('train_y의 크기 : {}'.format(train_y.shape))"
   ]
  },
  {
   "cell_type": "code",
   "execution_count": 16,
   "metadata": {},
   "outputs": [],
   "source": [
    "from tensorflow.keras.models import Sequential\n",
    "from tensorflow.keras.layers import Dense, LSTM, TimeDistributed"
   ]
  },
  {
   "cell_type": "code",
   "execution_count": 17,
   "metadata": {},
   "outputs": [],
   "source": [
    "model = Sequential()\n",
    "model.add(LSTM(256, input_shape = (None, train_X.shape[2]), return_sequences = True))\n",
    "model.add(LSTM(256, return_sequences = True))\n",
    "model.add(TimeDistributed(Dense(vocab_size, activation = 'softmax')))"
   ]
  },
  {
   "cell_type": "code",
   "execution_count": 19,
   "metadata": {},
   "outputs": [
    {
     "name": "stdout",
     "output_type": "stream",
     "text": [
      "Train on 2660 samples\n",
      "Epoch 1/80\n",
      "2660/2660 - 27s - loss: 3.0768 - accuracy: 0.1825\n",
      "Epoch 2/80\n",
      "2660/2660 - 24s - loss: 2.7110 - accuracy: 0.2541\n",
      "Epoch 3/80\n",
      "2660/2660 - 26s - loss: 2.3722 - accuracy: 0.3339\n",
      "Epoch 4/80\n",
      "2660/2660 - 26s - loss: 2.2254 - accuracy: 0.3684\n",
      "Epoch 5/80\n",
      "2660/2660 - 27s - loss: 2.1224 - accuracy: 0.3923\n",
      "Epoch 6/80\n",
      "2660/2660 - 26s - loss: 2.0397 - accuracy: 0.4128\n",
      "Epoch 7/80\n",
      "2660/2660 - 26s - loss: 1.9720 - accuracy: 0.4308\n",
      "Epoch 8/80\n",
      "2660/2660 - 27s - loss: 1.9098 - accuracy: 0.4489\n",
      "Epoch 9/80\n",
      "2660/2660 - 27s - loss: 1.8557 - accuracy: 0.4626\n",
      "Epoch 10/80\n",
      "2660/2660 - 28s - loss: 1.8054 - accuracy: 0.4762\n",
      "Epoch 11/80\n",
      "2660/2660 - 27s - loss: 1.7610 - accuracy: 0.4885\n",
      "Epoch 12/80\n",
      "2660/2660 - 28s - loss: 1.7145 - accuracy: 0.5009\n",
      "Epoch 13/80\n",
      "2660/2660 - 29s - loss: 1.6754 - accuracy: 0.5113\n",
      "Epoch 14/80\n",
      "2660/2660 - 29s - loss: 1.6365 - accuracy: 0.5211\n",
      "Epoch 15/80\n",
      "2660/2660 - 28s - loss: 1.6006 - accuracy: 0.5307\n",
      "Epoch 16/80\n",
      "2660/2660 - 28s - loss: 1.5647 - accuracy: 0.5408\n",
      "Epoch 17/80\n",
      "2660/2660 - 28s - loss: 1.5278 - accuracy: 0.5501\n",
      "Epoch 18/80\n",
      "2660/2660 - 28s - loss: 1.4926 - accuracy: 0.5596\n",
      "Epoch 19/80\n",
      "2660/2660 - 27s - loss: 1.4615 - accuracy: 0.5680\n",
      "Epoch 20/80\n",
      "2660/2660 - 28s - loss: 1.4300 - accuracy: 0.5768\n",
      "Epoch 21/80\n",
      "2660/2660 - 28s - loss: 1.4005 - accuracy: 0.5849\n",
      "Epoch 22/80\n",
      "2660/2660 - 27s - loss: 1.3703 - accuracy: 0.5922\n",
      "Epoch 23/80\n",
      "2660/2660 - 27s - loss: 1.3387 - accuracy: 0.6019\n",
      "Epoch 24/80\n",
      "2660/2660 - 27s - loss: 1.3114 - accuracy: 0.6088\n",
      "Epoch 25/80\n",
      "2660/2660 - 27s - loss: 1.2823 - accuracy: 0.6177\n",
      "Epoch 26/80\n",
      "2660/2660 - 28s - loss: 1.2557 - accuracy: 0.6248\n",
      "Epoch 27/80\n",
      "2660/2660 - 28s - loss: 1.2270 - accuracy: 0.6336\n",
      "Epoch 28/80\n",
      "2660/2660 - 27s - loss: 1.1997 - accuracy: 0.6413\n",
      "Epoch 29/80\n",
      "2660/2660 - 28s - loss: 1.1704 - accuracy: 0.6511\n",
      "Epoch 30/80\n",
      "2660/2660 - 28s - loss: 1.1411 - accuracy: 0.6579\n",
      "Epoch 31/80\n",
      "2660/2660 - 29s - loss: 1.1143 - accuracy: 0.6663\n",
      "Epoch 32/80\n",
      "2660/2660 - 29s - loss: 1.0864 - accuracy: 0.6752\n",
      "Epoch 33/80\n",
      "2660/2660 - 29s - loss: 1.0600 - accuracy: 0.6828\n",
      "Epoch 34/80\n",
      "2660/2660 - 29s - loss: 1.0281 - accuracy: 0.6923\n",
      "Epoch 35/80\n",
      "2660/2660 - 27s - loss: 1.0021 - accuracy: 0.7006\n",
      "Epoch 36/80\n",
      "2660/2660 - 31s - loss: 0.9707 - accuracy: 0.7095\n",
      "Epoch 37/80\n",
      "2660/2660 - 29s - loss: 0.9436 - accuracy: 0.7186\n",
      "Epoch 38/80\n",
      "2660/2660 - 31s - loss: 0.9163 - accuracy: 0.7278\n",
      "Epoch 39/80\n",
      "2660/2660 - 28s - loss: 0.8866 - accuracy: 0.7364\n",
      "Epoch 40/80\n",
      "2660/2660 - 28s - loss: 0.8645 - accuracy: 0.7425\n",
      "Epoch 41/80\n",
      "2660/2660 - 29s - loss: 0.8315 - accuracy: 0.7536\n",
      "Epoch 42/80\n",
      "2660/2660 - 28s - loss: 0.8043 - accuracy: 0.7623\n",
      "Epoch 43/80\n",
      "2660/2660 - 28s - loss: 0.7773 - accuracy: 0.7708\n",
      "Epoch 44/80\n",
      "2660/2660 - 28s - loss: 0.7516 - accuracy: 0.7803\n",
      "Epoch 45/80\n",
      "2660/2660 - 29s - loss: 0.7247 - accuracy: 0.7890\n",
      "Epoch 46/80\n",
      "2660/2660 - 27s - loss: 0.7000 - accuracy: 0.7963\n",
      "Epoch 47/80\n",
      "2660/2660 - 28s - loss: 0.6797 - accuracy: 0.8025\n",
      "Epoch 48/80\n",
      "2660/2660 - 28s - loss: 0.6544 - accuracy: 0.8105\n",
      "Epoch 49/80\n",
      "2660/2660 - 28s - loss: 0.6248 - accuracy: 0.8216\n",
      "Epoch 50/80\n",
      "2660/2660 - 28s - loss: 0.6095 - accuracy: 0.8242\n",
      "Epoch 51/80\n",
      "2660/2660 - 28s - loss: 0.5802 - accuracy: 0.8355\n",
      "Epoch 52/80\n",
      "2660/2660 - 30s - loss: 0.5568 - accuracy: 0.8435\n",
      "Epoch 53/80\n",
      "2660/2660 - 29s - loss: 0.5383 - accuracy: 0.8492\n",
      "Epoch 54/80\n",
      "2660/2660 - 30s - loss: 0.5144 - accuracy: 0.8567\n",
      "Epoch 55/80\n",
      "2660/2660 - 29s - loss: 0.4938 - accuracy: 0.8639\n",
      "Epoch 56/80\n",
      "2660/2660 - 31s - loss: 0.4730 - accuracy: 0.8704\n",
      "Epoch 57/80\n",
      "2660/2660 - 30s - loss: 0.4584 - accuracy: 0.8743\n",
      "Epoch 58/80\n",
      "2660/2660 - 30s - loss: 0.4352 - accuracy: 0.8828\n",
      "Epoch 59/80\n",
      "2660/2660 - 29s - loss: 0.4180 - accuracy: 0.8888\n",
      "Epoch 60/80\n",
      "2660/2660 - 29s - loss: 0.4065 - accuracy: 0.8903\n",
      "Epoch 61/80\n",
      "2660/2660 - 29s - loss: 0.3872 - accuracy: 0.8973\n",
      "Epoch 62/80\n",
      "2660/2660 - 31s - loss: 0.3737 - accuracy: 0.9019\n",
      "Epoch 63/80\n",
      "2660/2660 - 30s - loss: 0.3550 - accuracy: 0.9079\n",
      "Epoch 64/80\n",
      "2660/2660 - 31s - loss: 0.3562 - accuracy: 0.9057\n",
      "Epoch 65/80\n",
      "2660/2660 - 32s - loss: 0.3254 - accuracy: 0.9179\n",
      "Epoch 66/80\n",
      "2660/2660 - 29s - loss: 0.3142 - accuracy: 0.9206\n",
      "Epoch 67/80\n",
      "2660/2660 - 27s - loss: 0.3011 - accuracy: 0.9242\n",
      "Epoch 68/80\n",
      "2660/2660 - 28s - loss: 0.2864 - accuracy: 0.9297\n",
      "Epoch 69/80\n",
      "2660/2660 - 28s - loss: 0.2798 - accuracy: 0.9313\n",
      "Epoch 70/80\n",
      "2660/2660 - 28s - loss: 0.2694 - accuracy: 0.9335\n",
      "Epoch 71/80\n",
      "2660/2660 - 28s - loss: 0.2585 - accuracy: 0.9372\n",
      "Epoch 72/80\n",
      "2660/2660 - 28s - loss: 0.2437 - accuracy: 0.9413\n",
      "Epoch 73/80\n",
      "2660/2660 - 28s - loss: 0.2384 - accuracy: 0.9427\n",
      "Epoch 74/80\n",
      "2660/2660 - 29s - loss: 0.2307 - accuracy: 0.9442\n",
      "Epoch 75/80\n",
      "2660/2660 - 27s - loss: 0.2243 - accuracy: 0.9461\n",
      "Epoch 76/80\n",
      "2660/2660 - 27s - loss: 0.2156 - accuracy: 0.9484\n",
      "Epoch 77/80\n",
      "2660/2660 - 27s - loss: 0.2115 - accuracy: 0.9487\n",
      "Epoch 78/80\n",
      "2660/2660 - 27s - loss: 0.1995 - accuracy: 0.9525\n",
      "Epoch 79/80\n",
      "2660/2660 - 27s - loss: 0.1887 - accuracy: 0.9551\n",
      "Epoch 80/80\n",
      "2660/2660 - 27s - loss: 0.1774 - accuracy: 0.9579\n"
     ]
    },
    {
     "data": {
      "text/plain": [
       "<tensorflow.python.keras.callbacks.History at 0x260cd128048>"
      ]
     },
     "execution_count": 19,
     "metadata": {},
     "output_type": "execute_result"
    }
   ],
   "source": [
    "model.compile(loss = 'categorical_crossentropy', optimizer = 'adam', metrics = ['accuracy'])\n",
    "model.fit(train_X,train_y, epochs = 80, verbose = 2)"
   ]
  },
  {
   "cell_type": "code",
   "execution_count": 72,
   "metadata": {},
   "outputs": [],
   "source": [
    "def sentence_generation(model, length):\n",
    "    ix = [np.random.randint(vocab_size)] \n",
    "    y_char = [index_to_char[ix[-1]]]\n",
    "    print(ix[-1],'번 글자',y_char[-1],'로 예측을 시작!')\n",
    "    X = np.zeros((1, length, vocab_size))\n",
    "\n",
    "    for i in range(length):\n",
    "        X[0][i][ix[-1]] = 1 \n",
    "        print(index_to_char[ix[-1]], end=\"\")\n",
    "        ix = np.argmax(model.predict(X[:, :i+1, :])[0], 1)\n",
    "        y_char.append(index_to_char[ix[-1]])\n",
    "    return ('').join(y_char)"
   ]
  },
  {
   "cell_type": "code",
   "execution_count": 73,
   "metadata": {},
   "outputs": [
    {
     "name": "stdout",
     "output_type": "stream",
     "text": [
      "10 번 글자 [','] 로 예측을 시작!\n",
      ","
     ]
    },
    {
     "ename": "ValueError",
     "evalue": "Error when checking input: expected lstm_2_input to have shape (10, 33) but got array with shape (1, 33)",
     "output_type": "error",
     "traceback": [
      "\u001b[1;31m---------------------------------------------------------------------------\u001b[0m",
      "\u001b[1;31mValueError\u001b[0m                                Traceback (most recent call last)",
      "\u001b[1;32m<ipython-input-73-13da17c9c487>\u001b[0m in \u001b[0;36m<module>\u001b[1;34m\u001b[0m\n\u001b[1;32m----> 1\u001b[1;33m \u001b[0msentence_generation\u001b[0m\u001b[1;33m(\u001b[0m\u001b[0mmodel\u001b[0m\u001b[1;33m,\u001b[0m \u001b[1;36m100\u001b[0m\u001b[1;33m)\u001b[0m\u001b[1;33m\u001b[0m\u001b[1;33m\u001b[0m\u001b[0m\n\u001b[0m",
      "\u001b[1;32m<ipython-input-72-364cf389c423>\u001b[0m in \u001b[0;36msentence_generation\u001b[1;34m(model, length)\u001b[0m\n\u001b[0;32m      8\u001b[0m         \u001b[0mX\u001b[0m\u001b[1;33m[\u001b[0m\u001b[1;36m0\u001b[0m\u001b[1;33m]\u001b[0m\u001b[1;33m[\u001b[0m\u001b[0mi\u001b[0m\u001b[1;33m]\u001b[0m\u001b[1;33m[\u001b[0m\u001b[0mix\u001b[0m\u001b[1;33m[\u001b[0m\u001b[1;33m-\u001b[0m\u001b[1;36m1\u001b[0m\u001b[1;33m]\u001b[0m\u001b[1;33m]\u001b[0m \u001b[1;33m=\u001b[0m \u001b[1;36m1\u001b[0m\u001b[1;33m\u001b[0m\u001b[1;33m\u001b[0m\u001b[0m\n\u001b[0;32m      9\u001b[0m         \u001b[0mprint\u001b[0m\u001b[1;33m(\u001b[0m\u001b[0mindex_to_char\u001b[0m\u001b[1;33m[\u001b[0m\u001b[0mix\u001b[0m\u001b[1;33m[\u001b[0m\u001b[1;33m-\u001b[0m\u001b[1;36m1\u001b[0m\u001b[1;33m]\u001b[0m\u001b[1;33m]\u001b[0m\u001b[1;33m,\u001b[0m \u001b[0mend\u001b[0m\u001b[1;33m=\u001b[0m\u001b[1;34m\"\"\u001b[0m\u001b[1;33m)\u001b[0m\u001b[1;33m\u001b[0m\u001b[1;33m\u001b[0m\u001b[0m\n\u001b[1;32m---> 10\u001b[1;33m         \u001b[0mix\u001b[0m \u001b[1;33m=\u001b[0m \u001b[0mnp\u001b[0m\u001b[1;33m.\u001b[0m\u001b[0margmax\u001b[0m\u001b[1;33m(\u001b[0m\u001b[0mmodel\u001b[0m\u001b[1;33m.\u001b[0m\u001b[0mpredict\u001b[0m\u001b[1;33m(\u001b[0m\u001b[0mX\u001b[0m\u001b[1;33m[\u001b[0m\u001b[1;33m:\u001b[0m\u001b[1;33m,\u001b[0m \u001b[1;33m:\u001b[0m\u001b[0mi\u001b[0m\u001b[1;33m+\u001b[0m\u001b[1;36m1\u001b[0m\u001b[1;33m,\u001b[0m \u001b[1;33m:\u001b[0m\u001b[1;33m]\u001b[0m\u001b[1;33m)\u001b[0m\u001b[1;33m[\u001b[0m\u001b[1;36m0\u001b[0m\u001b[1;33m]\u001b[0m\u001b[1;33m,\u001b[0m \u001b[1;36m1\u001b[0m\u001b[1;33m)\u001b[0m\u001b[1;33m\u001b[0m\u001b[1;33m\u001b[0m\u001b[0m\n\u001b[0m\u001b[0;32m     11\u001b[0m         \u001b[0my_char\u001b[0m\u001b[1;33m.\u001b[0m\u001b[0mappend\u001b[0m\u001b[1;33m(\u001b[0m\u001b[0mindex_to_char\u001b[0m\u001b[1;33m[\u001b[0m\u001b[0mix\u001b[0m\u001b[1;33m[\u001b[0m\u001b[1;33m-\u001b[0m\u001b[1;36m1\u001b[0m\u001b[1;33m]\u001b[0m\u001b[1;33m]\u001b[0m\u001b[1;33m)\u001b[0m\u001b[1;33m\u001b[0m\u001b[1;33m\u001b[0m\u001b[0m\n\u001b[0;32m     12\u001b[0m     \u001b[1;32mreturn\u001b[0m \u001b[1;33m(\u001b[0m\u001b[1;34m''\u001b[0m\u001b[1;33m)\u001b[0m\u001b[1;33m.\u001b[0m\u001b[0mjoin\u001b[0m\u001b[1;33m(\u001b[0m\u001b[0my_char\u001b[0m\u001b[1;33m)\u001b[0m\u001b[1;33m\u001b[0m\u001b[1;33m\u001b[0m\u001b[0m\n",
      "\u001b[1;32m~\\AppData\\Roaming\\Python\\Python37\\site-packages\\tensorflow_core\\python\\keras\\engine\\training.py\u001b[0m in \u001b[0;36mpredict\u001b[1;34m(self, x, batch_size, verbose, steps, callbacks, max_queue_size, workers, use_multiprocessing)\u001b[0m\n\u001b[0;32m   1011\u001b[0m         \u001b[0mmax_queue_size\u001b[0m\u001b[1;33m=\u001b[0m\u001b[0mmax_queue_size\u001b[0m\u001b[1;33m,\u001b[0m\u001b[1;33m\u001b[0m\u001b[1;33m\u001b[0m\u001b[0m\n\u001b[0;32m   1012\u001b[0m         \u001b[0mworkers\u001b[0m\u001b[1;33m=\u001b[0m\u001b[0mworkers\u001b[0m\u001b[1;33m,\u001b[0m\u001b[1;33m\u001b[0m\u001b[1;33m\u001b[0m\u001b[0m\n\u001b[1;32m-> 1013\u001b[1;33m         use_multiprocessing=use_multiprocessing)\n\u001b[0m\u001b[0;32m   1014\u001b[0m \u001b[1;33m\u001b[0m\u001b[0m\n\u001b[0;32m   1015\u001b[0m   \u001b[1;32mdef\u001b[0m \u001b[0mreset_metrics\u001b[0m\u001b[1;33m(\u001b[0m\u001b[0mself\u001b[0m\u001b[1;33m)\u001b[0m\u001b[1;33m:\u001b[0m\u001b[1;33m\u001b[0m\u001b[1;33m\u001b[0m\u001b[0m\n",
      "\u001b[1;32m~\\AppData\\Roaming\\Python\\Python37\\site-packages\\tensorflow_core\\python\\keras\\engine\\training_v2.py\u001b[0m in \u001b[0;36mpredict\u001b[1;34m(self, model, x, batch_size, verbose, steps, callbacks, max_queue_size, workers, use_multiprocessing, **kwargs)\u001b[0m\n\u001b[0;32m    496\u001b[0m         \u001b[0mmodel\u001b[0m\u001b[1;33m,\u001b[0m \u001b[0mModeKeys\u001b[0m\u001b[1;33m.\u001b[0m\u001b[0mPREDICT\u001b[0m\u001b[1;33m,\u001b[0m \u001b[0mx\u001b[0m\u001b[1;33m=\u001b[0m\u001b[0mx\u001b[0m\u001b[1;33m,\u001b[0m \u001b[0mbatch_size\u001b[0m\u001b[1;33m=\u001b[0m\u001b[0mbatch_size\u001b[0m\u001b[1;33m,\u001b[0m \u001b[0mverbose\u001b[0m\u001b[1;33m=\u001b[0m\u001b[0mverbose\u001b[0m\u001b[1;33m,\u001b[0m\u001b[1;33m\u001b[0m\u001b[1;33m\u001b[0m\u001b[0m\n\u001b[0;32m    497\u001b[0m         \u001b[0msteps\u001b[0m\u001b[1;33m=\u001b[0m\u001b[0msteps\u001b[0m\u001b[1;33m,\u001b[0m \u001b[0mcallbacks\u001b[0m\u001b[1;33m=\u001b[0m\u001b[0mcallbacks\u001b[0m\u001b[1;33m,\u001b[0m \u001b[0mmax_queue_size\u001b[0m\u001b[1;33m=\u001b[0m\u001b[0mmax_queue_size\u001b[0m\u001b[1;33m,\u001b[0m\u001b[1;33m\u001b[0m\u001b[1;33m\u001b[0m\u001b[0m\n\u001b[1;32m--> 498\u001b[1;33m         workers=workers, use_multiprocessing=use_multiprocessing, **kwargs)\n\u001b[0m\u001b[0;32m    499\u001b[0m \u001b[1;33m\u001b[0m\u001b[0m\n\u001b[0;32m    500\u001b[0m \u001b[1;33m\u001b[0m\u001b[0m\n",
      "\u001b[1;32m~\\AppData\\Roaming\\Python\\Python37\\site-packages\\tensorflow_core\\python\\keras\\engine\\training_v2.py\u001b[0m in \u001b[0;36m_model_iteration\u001b[1;34m(self, model, mode, x, y, batch_size, verbose, sample_weight, steps, callbacks, max_queue_size, workers, use_multiprocessing, **kwargs)\u001b[0m\n\u001b[0;32m    424\u001b[0m           \u001b[0mmax_queue_size\u001b[0m\u001b[1;33m=\u001b[0m\u001b[0mmax_queue_size\u001b[0m\u001b[1;33m,\u001b[0m\u001b[1;33m\u001b[0m\u001b[1;33m\u001b[0m\u001b[0m\n\u001b[0;32m    425\u001b[0m           \u001b[0mworkers\u001b[0m\u001b[1;33m=\u001b[0m\u001b[0mworkers\u001b[0m\u001b[1;33m,\u001b[0m\u001b[1;33m\u001b[0m\u001b[1;33m\u001b[0m\u001b[0m\n\u001b[1;32m--> 426\u001b[1;33m           use_multiprocessing=use_multiprocessing)\n\u001b[0m\u001b[0;32m    427\u001b[0m       \u001b[0mtotal_samples\u001b[0m \u001b[1;33m=\u001b[0m \u001b[0m_get_total_number_of_samples\u001b[0m\u001b[1;33m(\u001b[0m\u001b[0madapter\u001b[0m\u001b[1;33m)\u001b[0m\u001b[1;33m\u001b[0m\u001b[1;33m\u001b[0m\u001b[0m\n\u001b[0;32m    428\u001b[0m       \u001b[0muse_sample\u001b[0m \u001b[1;33m=\u001b[0m \u001b[0mtotal_samples\u001b[0m \u001b[1;32mis\u001b[0m \u001b[1;32mnot\u001b[0m \u001b[1;32mNone\u001b[0m\u001b[1;33m\u001b[0m\u001b[1;33m\u001b[0m\u001b[0m\n",
      "\u001b[1;32m~\\AppData\\Roaming\\Python\\Python37\\site-packages\\tensorflow_core\\python\\keras\\engine\\training_v2.py\u001b[0m in \u001b[0;36m_process_inputs\u001b[1;34m(model, mode, x, y, batch_size, epochs, sample_weights, class_weights, shuffle, steps, distribution_strategy, max_queue_size, workers, use_multiprocessing)\u001b[0m\n\u001b[0;32m    644\u001b[0m     \u001b[0mstandardize_function\u001b[0m \u001b[1;33m=\u001b[0m \u001b[1;32mNone\u001b[0m\u001b[1;33m\u001b[0m\u001b[1;33m\u001b[0m\u001b[0m\n\u001b[0;32m    645\u001b[0m     x, y, sample_weights = standardize(\n\u001b[1;32m--> 646\u001b[1;33m         x, y, sample_weight=sample_weights)\n\u001b[0m\u001b[0;32m    647\u001b[0m   \u001b[1;32melif\u001b[0m \u001b[0madapter_cls\u001b[0m \u001b[1;32mis\u001b[0m \u001b[0mdata_adapter\u001b[0m\u001b[1;33m.\u001b[0m\u001b[0mListsOfScalarsDataAdapter\u001b[0m\u001b[1;33m:\u001b[0m\u001b[1;33m\u001b[0m\u001b[1;33m\u001b[0m\u001b[0m\n\u001b[0;32m    648\u001b[0m     \u001b[0mstandardize_function\u001b[0m \u001b[1;33m=\u001b[0m \u001b[0mstandardize\u001b[0m\u001b[1;33m\u001b[0m\u001b[1;33m\u001b[0m\u001b[0m\n",
      "\u001b[1;32m~\\AppData\\Roaming\\Python\\Python37\\site-packages\\tensorflow_core\\python\\keras\\engine\\training.py\u001b[0m in \u001b[0;36m_standardize_user_data\u001b[1;34m(self, x, y, sample_weight, class_weight, batch_size, check_steps, steps_name, steps, validation_split, shuffle, extract_tensors_from_dataset)\u001b[0m\n\u001b[0;32m   2381\u001b[0m         \u001b[0mis_dataset\u001b[0m\u001b[1;33m=\u001b[0m\u001b[0mis_dataset\u001b[0m\u001b[1;33m,\u001b[0m\u001b[1;33m\u001b[0m\u001b[1;33m\u001b[0m\u001b[0m\n\u001b[0;32m   2382\u001b[0m         \u001b[0mclass_weight\u001b[0m\u001b[1;33m=\u001b[0m\u001b[0mclass_weight\u001b[0m\u001b[1;33m,\u001b[0m\u001b[1;33m\u001b[0m\u001b[1;33m\u001b[0m\u001b[0m\n\u001b[1;32m-> 2383\u001b[1;33m         batch_size=batch_size)\n\u001b[0m\u001b[0;32m   2384\u001b[0m \u001b[1;33m\u001b[0m\u001b[0m\n\u001b[0;32m   2385\u001b[0m   def _standardize_tensors(self, x, y, sample_weight, run_eagerly, dict_inputs,\n",
      "\u001b[1;32m~\\AppData\\Roaming\\Python\\Python37\\site-packages\\tensorflow_core\\python\\keras\\engine\\training.py\u001b[0m in \u001b[0;36m_standardize_tensors\u001b[1;34m(self, x, y, sample_weight, run_eagerly, dict_inputs, is_dataset, class_weight, batch_size)\u001b[0m\n\u001b[0;32m   2408\u001b[0m           \u001b[0mfeed_input_shapes\u001b[0m\u001b[1;33m,\u001b[0m\u001b[1;33m\u001b[0m\u001b[1;33m\u001b[0m\u001b[0m\n\u001b[0;32m   2409\u001b[0m           \u001b[0mcheck_batch_axis\u001b[0m\u001b[1;33m=\u001b[0m\u001b[1;32mFalse\u001b[0m\u001b[1;33m,\u001b[0m  \u001b[1;31m# Don't enforce the batch size.\u001b[0m\u001b[1;33m\u001b[0m\u001b[1;33m\u001b[0m\u001b[0m\n\u001b[1;32m-> 2410\u001b[1;33m           exception_prefix='input')\n\u001b[0m\u001b[0;32m   2411\u001b[0m \u001b[1;33m\u001b[0m\u001b[0m\n\u001b[0;32m   2412\u001b[0m     \u001b[1;31m# Get typespecs for the input data and sanitize it if necessary.\u001b[0m\u001b[1;33m\u001b[0m\u001b[1;33m\u001b[0m\u001b[1;33m\u001b[0m\u001b[0m\n",
      "\u001b[1;32m~\\AppData\\Roaming\\Python\\Python37\\site-packages\\tensorflow_core\\python\\keras\\engine\\training_utils.py\u001b[0m in \u001b[0;36mstandardize_input_data\u001b[1;34m(data, names, shapes, check_batch_axis, exception_prefix)\u001b[0m\n\u001b[0;32m    580\u001b[0m                              \u001b[1;34m': expected '\u001b[0m \u001b[1;33m+\u001b[0m \u001b[0mnames\u001b[0m\u001b[1;33m[\u001b[0m\u001b[0mi\u001b[0m\u001b[1;33m]\u001b[0m \u001b[1;33m+\u001b[0m \u001b[1;34m' to have shape '\u001b[0m \u001b[1;33m+\u001b[0m\u001b[1;33m\u001b[0m\u001b[1;33m\u001b[0m\u001b[0m\n\u001b[0;32m    581\u001b[0m                              \u001b[0mstr\u001b[0m\u001b[1;33m(\u001b[0m\u001b[0mshape\u001b[0m\u001b[1;33m)\u001b[0m \u001b[1;33m+\u001b[0m \u001b[1;34m' but got array with shape '\u001b[0m \u001b[1;33m+\u001b[0m\u001b[1;33m\u001b[0m\u001b[1;33m\u001b[0m\u001b[0m\n\u001b[1;32m--> 582\u001b[1;33m                              str(data_shape))\n\u001b[0m\u001b[0;32m    583\u001b[0m   \u001b[1;32mreturn\u001b[0m \u001b[0mdata\u001b[0m\u001b[1;33m\u001b[0m\u001b[1;33m\u001b[0m\u001b[0m\n\u001b[0;32m    584\u001b[0m \u001b[1;33m\u001b[0m\u001b[0m\n",
      "\u001b[1;31mValueError\u001b[0m: Error when checking input: expected lstm_2_input to have shape (10, 33) but got array with shape (1, 33)"
     ]
    }
   ],
   "source": [
    "sentence_generation(model, 100)"
   ]
  },
  {
   "cell_type": "code",
   "execution_count": 24,
   "metadata": {},
   "outputs": [],
   "source": [
    "text='''\n",
    "I get on with life as a programmer,\n",
    "I like to contemplate beer.\n",
    "But when I start to daydream,\n",
    "My mind turns straight to wine.\n",
    "\n",
    "Do I love wine more than beer?\n",
    "\n",
    "I like to use words about beer.\n",
    "But when I stop my talking,\n",
    "My mind turns straight to wine.\n",
    "\n",
    "I hate bugs and errors.\n",
    "But I just think back to wine,\n",
    "And I'm happy once again.\n",
    "\n",
    "I like to hang out with programming and deep learning.\n",
    "But when left alone,\n",
    "My mind turns straight to wine.\n",
    "'''"
   ]
  },
  {
   "cell_type": "code",
   "execution_count": 25,
   "metadata": {},
   "outputs": [
    {
     "name": "stdout",
     "output_type": "stream",
     "text": [
      "I get on with life as a programmer, I like to contemplate beer. But when I start to daydream, My mind turns straight to wine. Do I love wine more than beer? I like to use words about beer. But when I stop my talking, My mind turns straight to wine. I hate bugs and errors. But I just think back to wine, And I'm happy once again. I like to hang out with programming and deep learning. But when left alone, My mind turns straight to wine.\n"
     ]
    }
   ],
   "source": [
    "tokens = text.split()\n",
    "text = ' '.join(tokens)\n",
    "print(text)"
   ]
  },
  {
   "cell_type": "code",
   "execution_count": 26,
   "metadata": {},
   "outputs": [
    {
     "name": "stdout",
     "output_type": "stream",
     "text": [
      "[' ', \"'\", ',', '.', '?', 'A', 'B', 'D', 'I', 'M', 'a', 'b', 'c', 'd', 'e', 'f', 'g', 'h', 'i', 'j', 'k', 'l', 'm', 'n', 'o', 'p', 'r', 's', 't', 'u', 'v', 'w', 'y']\n"
     ]
    }
   ],
   "source": [
    "char_vocab = sorted(list(set(text)))\n",
    "print(char_vocab)"
   ]
  },
  {
   "cell_type": "code",
   "execution_count": 27,
   "metadata": {},
   "outputs": [
    {
     "name": "stdout",
     "output_type": "stream",
     "text": [
      "글자 집합의 크기 : 33\n"
     ]
    }
   ],
   "source": [
    "vocab_size = len(char_vocab)\n",
    "print('글자 집합의 크기 : {}'.format(vocab_size))"
   ]
  },
  {
   "cell_type": "code",
   "execution_count": 28,
   "metadata": {},
   "outputs": [
    {
     "name": "stdout",
     "output_type": "stream",
     "text": [
      "{' ': 0, \"'\": 1, ',': 2, '.': 3, '?': 4, 'A': 5, 'B': 6, 'D': 7, 'I': 8, 'M': 9, 'a': 10, 'b': 11, 'c': 12, 'd': 13, 'e': 14, 'f': 15, 'g': 16, 'h': 17, 'i': 18, 'j': 19, 'k': 20, 'l': 21, 'm': 22, 'n': 23, 'o': 24, 'p': 25, 'r': 26, 's': 27, 't': 28, 'u': 29, 'v': 30, 'w': 31, 'y': 32}\n"
     ]
    }
   ],
   "source": [
    "char_to_index = dict((c,i) for i,c in enumerate(char_vocab))\n",
    "print(char_to_index)"
   ]
  },
  {
   "cell_type": "code",
   "execution_count": 34,
   "metadata": {},
   "outputs": [
    {
     "name": "stdout",
     "output_type": "stream",
     "text": [
      "총 훈련샘플의 수 : 426\n"
     ]
    }
   ],
   "source": [
    "length = 11\n",
    "sequences = []\n",
    "for i in range(length, len(text)):\n",
    "    seq = text[i-length:i]\n",
    "    sequences.append(seq)\n",
    "print('총 훈련샘플의 수 : %d'%len(sequences))"
   ]
  },
  {
   "cell_type": "code",
   "execution_count": 35,
   "metadata": {},
   "outputs": [
    {
     "data": {
      "text/plain": [
       "['I get on wi',\n",
       " ' get on wit',\n",
       " 'get on with',\n",
       " 'et on with ',\n",
       " 't on with l',\n",
       " ' on with li',\n",
       " 'on with lif',\n",
       " 'n with life',\n",
       " ' with life ',\n",
       " 'with life a']"
      ]
     },
     "execution_count": 35,
     "metadata": {},
     "output_type": "execute_result"
    }
   ],
   "source": [
    "sequences[:10]"
   ]
  },
  {
   "cell_type": "code",
   "execution_count": 36,
   "metadata": {},
   "outputs": [],
   "source": [
    "X = []\n",
    "for line in sequences:\n",
    "    temp_X = [char_to_index[char] for char in line]\n",
    "    X.append(temp_X)"
   ]
  },
  {
   "cell_type": "code",
   "execution_count": 37,
   "metadata": {},
   "outputs": [
    {
     "name": "stdout",
     "output_type": "stream",
     "text": [
      "[8, 0, 16, 14, 28, 0, 24, 23, 0, 31, 18]\n",
      "[0, 16, 14, 28, 0, 24, 23, 0, 31, 18, 28]\n",
      "[16, 14, 28, 0, 24, 23, 0, 31, 18, 28, 17]\n",
      "[14, 28, 0, 24, 23, 0, 31, 18, 28, 17, 0]\n",
      "[28, 0, 24, 23, 0, 31, 18, 28, 17, 0, 21]\n"
     ]
    }
   ],
   "source": [
    "for line in X[:5]:\n",
    "    print(line)"
   ]
  },
  {
   "cell_type": "code",
   "execution_count": 39,
   "metadata": {},
   "outputs": [],
   "source": [
    "sequences = np.array(X)\n",
    "X = sequences[:,:-1]\n",
    "y = sequences[:,-1]"
   ]
  },
  {
   "cell_type": "code",
   "execution_count": 40,
   "metadata": {},
   "outputs": [
    {
     "name": "stdout",
     "output_type": "stream",
     "text": [
      "[18 28 17  0 21]\n"
     ]
    }
   ],
   "source": [
    "print(y[:5])"
   ]
  },
  {
   "cell_type": "code",
   "execution_count": 41,
   "metadata": {},
   "outputs": [],
   "source": [
    "sequences = [to_categorical(x, num_classes = vocab_size) for x in X]\n",
    "X = np.array(sequences)\n",
    "y = to_categorical(y, num_classes = vocab_size)"
   ]
  },
  {
   "cell_type": "code",
   "execution_count": 42,
   "metadata": {},
   "outputs": [
    {
     "name": "stdout",
     "output_type": "stream",
     "text": [
      "(426, 10, 33)\n"
     ]
    }
   ],
   "source": [
    "print(X.shape)"
   ]
  },
  {
   "cell_type": "code",
   "execution_count": 43,
   "metadata": {},
   "outputs": [],
   "source": [
    "from tensorflow.keras.models import Sequential\n",
    "from tensorflow.keras.layers import Dense, LSTM\n",
    "from tensorflow.keras.preprocessing.sequence import pad_sequences"
   ]
  },
  {
   "cell_type": "code",
   "execution_count": 44,
   "metadata": {},
   "outputs": [],
   "source": [
    "model = Sequential()\n",
    "model.add(LSTM(80, input_shape = (X.shape[1], X.shape[2])))\n",
    "model.add(Dense(vocab_size, activation = 'softmax'))"
   ]
  },
  {
   "cell_type": "code",
   "execution_count": 45,
   "metadata": {},
   "outputs": [
    {
     "name": "stdout",
     "output_type": "stream",
     "text": [
      "Train on 426 samples\n",
      "Epoch 1/100\n",
      "426/426 - 1s - loss: 3.4688 - accuracy: 0.1174\n",
      "Epoch 2/100\n",
      "426/426 - 0s - loss: 3.3255 - accuracy: 0.1972\n",
      "Epoch 3/100\n",
      "426/426 - 0s - loss: 3.0531 - accuracy: 0.1972\n",
      "Epoch 4/100\n",
      "426/426 - 0s - loss: 3.0010 - accuracy: 0.1972\n",
      "Epoch 5/100\n",
      "426/426 - 0s - loss: 2.9517 - accuracy: 0.1972\n",
      "Epoch 6/100\n",
      "426/426 - 0s - loss: 2.9309 - accuracy: 0.1972\n",
      "Epoch 7/100\n",
      "426/426 - 0s - loss: 2.9135 - accuracy: 0.1972\n",
      "Epoch 8/100\n",
      "426/426 - 0s - loss: 2.8980 - accuracy: 0.1972\n",
      "Epoch 9/100\n",
      "426/426 - 0s - loss: 2.8687 - accuracy: 0.1972\n",
      "Epoch 10/100\n",
      "426/426 - 0s - loss: 2.8380 - accuracy: 0.1972\n",
      "Epoch 11/100\n",
      "426/426 - 0s - loss: 2.8109 - accuracy: 0.2042\n",
      "Epoch 12/100\n",
      "426/426 - 0s - loss: 2.7658 - accuracy: 0.2113\n",
      "Epoch 13/100\n",
      "426/426 - 0s - loss: 2.7380 - accuracy: 0.2089\n",
      "Epoch 14/100\n",
      "426/426 - 0s - loss: 2.7039 - accuracy: 0.2160\n",
      "Epoch 15/100\n",
      "426/426 - 0s - loss: 2.6594 - accuracy: 0.2488\n",
      "Epoch 16/100\n",
      "426/426 - 0s - loss: 2.6033 - accuracy: 0.2300\n",
      "Epoch 17/100\n",
      "426/426 - 0s - loss: 2.5433 - accuracy: 0.2582\n",
      "Epoch 18/100\n",
      "426/426 - 0s - loss: 2.5060 - accuracy: 0.2817\n",
      "Epoch 19/100\n",
      "426/426 - 0s - loss: 2.4655 - accuracy: 0.2653\n",
      "Epoch 20/100\n",
      "426/426 - 0s - loss: 2.3962 - accuracy: 0.3005\n",
      "Epoch 21/100\n",
      "426/426 - 0s - loss: 2.3725 - accuracy: 0.3474\n",
      "Epoch 22/100\n",
      "426/426 - 0s - loss: 2.3576 - accuracy: 0.3075\n",
      "Epoch 23/100\n",
      "426/426 - 0s - loss: 2.2787 - accuracy: 0.3685\n",
      "Epoch 24/100\n",
      "426/426 - 0s - loss: 2.2008 - accuracy: 0.3756\n",
      "Epoch 25/100\n",
      "426/426 - 0s - loss: 2.1455 - accuracy: 0.3803\n",
      "Epoch 26/100\n",
      "426/426 - 0s - loss: 2.1092 - accuracy: 0.3967\n",
      "Epoch 27/100\n",
      "426/426 - 0s - loss: 2.0737 - accuracy: 0.4131\n",
      "Epoch 28/100\n",
      "426/426 - 0s - loss: 2.0114 - accuracy: 0.4225\n",
      "Epoch 29/100\n",
      "426/426 - 0s - loss: 1.9921 - accuracy: 0.4437\n",
      "Epoch 30/100\n",
      "426/426 - 0s - loss: 1.9016 - accuracy: 0.4507\n",
      "Epoch 31/100\n",
      "426/426 - 0s - loss: 1.8731 - accuracy: 0.4718\n",
      "Epoch 32/100\n",
      "426/426 - 0s - loss: 1.8211 - accuracy: 0.4859\n",
      "Epoch 33/100\n",
      "426/426 - 0s - loss: 1.8361 - accuracy: 0.4930\n",
      "Epoch 34/100\n",
      "426/426 - 0s - loss: 1.7584 - accuracy: 0.5164\n",
      "Epoch 35/100\n",
      "426/426 - 0s - loss: 1.6786 - accuracy: 0.5516\n",
      "Epoch 36/100\n",
      "426/426 - 0s - loss: 1.6177 - accuracy: 0.5493\n",
      "Epoch 37/100\n",
      "426/426 - 0s - loss: 1.5770 - accuracy: 0.5845\n",
      "Epoch 38/100\n",
      "426/426 - 0s - loss: 1.5220 - accuracy: 0.6056\n",
      "Epoch 39/100\n",
      "426/426 - 0s - loss: 1.4791 - accuracy: 0.6150\n",
      "Epoch 40/100\n",
      "426/426 - 0s - loss: 1.4351 - accuracy: 0.6385\n",
      "Epoch 41/100\n",
      "426/426 - 0s - loss: 1.4236 - accuracy: 0.6362\n",
      "Epoch 42/100\n",
      "426/426 - 0s - loss: 1.3867 - accuracy: 0.6291\n",
      "Epoch 43/100\n",
      "426/426 - 0s - loss: 1.3167 - accuracy: 0.6878\n",
      "Epoch 44/100\n",
      "426/426 - 0s - loss: 1.2877 - accuracy: 0.6620\n",
      "Epoch 45/100\n",
      "426/426 - 0s - loss: 1.2420 - accuracy: 0.7042\n",
      "Epoch 46/100\n",
      "426/426 - 0s - loss: 1.1941 - accuracy: 0.7089\n",
      "Epoch 47/100\n",
      "426/426 - 0s - loss: 1.1806 - accuracy: 0.7183\n",
      "Epoch 48/100\n",
      "426/426 - 0s - loss: 1.1228 - accuracy: 0.7418\n",
      "Epoch 49/100\n",
      "426/426 - 0s - loss: 1.0812 - accuracy: 0.7559\n",
      "Epoch 50/100\n",
      "426/426 - 0s - loss: 1.0459 - accuracy: 0.7488\n",
      "Epoch 51/100\n",
      "426/426 - 0s - loss: 0.9973 - accuracy: 0.7770\n",
      "Epoch 52/100\n",
      "426/426 - 0s - loss: 0.9720 - accuracy: 0.7840\n",
      "Epoch 53/100\n",
      "426/426 - 0s - loss: 0.9483 - accuracy: 0.7981\n",
      "Epoch 54/100\n",
      "426/426 - 0s - loss: 0.9154 - accuracy: 0.8192\n",
      "Epoch 55/100\n",
      "426/426 - 0s - loss: 0.8697 - accuracy: 0.8263\n",
      "Epoch 56/100\n",
      "426/426 - 0s - loss: 0.8562 - accuracy: 0.8169\n",
      "Epoch 57/100\n",
      "426/426 - 0s - loss: 0.8357 - accuracy: 0.8333\n",
      "Epoch 58/100\n",
      "426/426 - 0s - loss: 0.7971 - accuracy: 0.8498\n",
      "Epoch 59/100\n",
      "426/426 - 0s - loss: 0.7779 - accuracy: 0.8545\n",
      "Epoch 60/100\n",
      "426/426 - 0s - loss: 0.7302 - accuracy: 0.8592\n",
      "Epoch 61/100\n",
      "426/426 - 0s - loss: 0.7255 - accuracy: 0.8662\n",
      "Epoch 62/100\n",
      "426/426 - 0s - loss: 0.6847 - accuracy: 0.8803\n",
      "Epoch 63/100\n",
      "426/426 - 0s - loss: 0.6542 - accuracy: 0.8944\n",
      "Epoch 64/100\n",
      "426/426 - 0s - loss: 0.6236 - accuracy: 0.9014\n",
      "Epoch 65/100\n",
      "426/426 - 0s - loss: 0.5910 - accuracy: 0.9131\n",
      "Epoch 66/100\n",
      "426/426 - 0s - loss: 0.5740 - accuracy: 0.9155\n",
      "Epoch 67/100\n",
      "426/426 - 0s - loss: 0.5600 - accuracy: 0.9131\n",
      "Epoch 68/100\n",
      "426/426 - 0s - loss: 0.5439 - accuracy: 0.9225\n",
      "Epoch 69/100\n",
      "426/426 - 0s - loss: 0.5270 - accuracy: 0.9155\n",
      "Epoch 70/100\n",
      "426/426 - 0s - loss: 0.5129 - accuracy: 0.9249\n",
      "Epoch 71/100\n",
      "426/426 - 0s - loss: 0.4761 - accuracy: 0.9319\n",
      "Epoch 72/100\n",
      "426/426 - 0s - loss: 0.4597 - accuracy: 0.9296\n",
      "Epoch 73/100\n",
      "426/426 - 0s - loss: 0.4354 - accuracy: 0.9460\n",
      "Epoch 74/100\n",
      "426/426 - 0s - loss: 0.4235 - accuracy: 0.9366\n",
      "Epoch 75/100\n",
      "426/426 - 0s - loss: 0.4217 - accuracy: 0.9437\n",
      "Epoch 76/100\n",
      "426/426 - 0s - loss: 0.3993 - accuracy: 0.9460\n",
      "Epoch 77/100\n",
      "426/426 - 0s - loss: 0.3841 - accuracy: 0.9460\n",
      "Epoch 78/100\n",
      "426/426 - 0s - loss: 0.3574 - accuracy: 0.9460\n",
      "Epoch 79/100\n",
      "426/426 - 0s - loss: 0.3532 - accuracy: 0.9437\n",
      "Epoch 80/100\n",
      "426/426 - 0s - loss: 0.3356 - accuracy: 0.9648\n",
      "Epoch 81/100\n",
      "426/426 - 0s - loss: 0.3210 - accuracy: 0.9648\n",
      "Epoch 82/100\n",
      "426/426 - 0s - loss: 0.3228 - accuracy: 0.9577\n",
      "Epoch 83/100\n",
      "426/426 - 0s - loss: 0.3113 - accuracy: 0.9671\n",
      "Epoch 84/100\n",
      "426/426 - 0s - loss: 0.2942 - accuracy: 0.9648\n",
      "Epoch 85/100\n",
      "426/426 - 0s - loss: 0.2814 - accuracy: 0.9695\n",
      "Epoch 86/100\n",
      "426/426 - 0s - loss: 0.2704 - accuracy: 0.9671\n",
      "Epoch 87/100\n",
      "426/426 - 0s - loss: 0.2682 - accuracy: 0.9671\n",
      "Epoch 88/100\n",
      "426/426 - 0s - loss: 0.2564 - accuracy: 0.9742\n",
      "Epoch 89/100\n",
      "426/426 - 0s - loss: 0.2479 - accuracy: 0.9742\n",
      "Epoch 90/100\n",
      "426/426 - 0s - loss: 0.2422 - accuracy: 0.9812\n",
      "Epoch 91/100\n",
      "426/426 - 0s - loss: 0.2274 - accuracy: 0.9789\n",
      "Epoch 92/100\n",
      "426/426 - 0s - loss: 0.2232 - accuracy: 0.9812\n",
      "Epoch 93/100\n",
      "426/426 - 0s - loss: 0.2240 - accuracy: 0.9695\n",
      "Epoch 94/100\n",
      "426/426 - 0s - loss: 0.2112 - accuracy: 0.9765\n",
      "Epoch 95/100\n",
      "426/426 - 0s - loss: 0.2023 - accuracy: 0.9812\n",
      "Epoch 96/100\n",
      "426/426 - 0s - loss: 0.2001 - accuracy: 0.9789\n",
      "Epoch 97/100\n",
      "426/426 - 0s - loss: 0.1894 - accuracy: 0.9812\n",
      "Epoch 98/100\n",
      "426/426 - 0s - loss: 0.1824 - accuracy: 0.9789\n",
      "Epoch 99/100\n",
      "426/426 - 0s - loss: 0.1804 - accuracy: 0.9789\n",
      "Epoch 100/100\n",
      "426/426 - 0s - loss: 0.1742 - accuracy: 0.9812\n"
     ]
    },
    {
     "data": {
      "text/plain": [
       "<tensorflow.python.keras.callbacks.History at 0x26098cc4088>"
      ]
     },
     "execution_count": 45,
     "metadata": {},
     "output_type": "execute_result"
    }
   ],
   "source": [
    "model.compile(loss = 'categorical_crossentropy', optimizer = 'adam', metrics = ['accuracy'])\n",
    "model.fit(X,y, epochs = 100, verbose = 2)"
   ]
  },
  {
   "cell_type": "code",
   "execution_count": 46,
   "metadata": {},
   "outputs": [],
   "source": [
    "def sentence_generation(model, char_to_index, seq_length, seed_text, n):\n",
    "    init_text = seed_text\n",
    "    sentence = ''\n",
    "    \n",
    "    for _ in range(n):\n",
    "        encoded = [char_to_index[char] for char in seed_text]\n",
    "        encoded = pad_sequences([encoded], maxlen = seq_length, padding = 'pre')\n",
    "        encoded = to_categorical(encoded, num_classes = len(char_to_index))\n",
    "        result = model.predict_classes(encoded, verbose = 0)\n",
    "        \n",
    "        for char, index in char_to_index.items():\n",
    "            if index == result:\n",
    "                break\n",
    "        seed_text = seed_text+char\n",
    "        sentence = sentence+char\n",
    "        \n",
    "    sentence = init_text + sentence\n",
    "    return sentence"
   ]
  },
  {
   "cell_type": "code",
   "execution_count": 47,
   "metadata": {},
   "outputs": [
    {
     "name": "stdout",
     "output_type": "stream",
     "text": [
      "I get on with life as a programmer, I like to use words about beer. But when I stop my tal\n"
     ]
    }
   ],
   "source": [
    "print(sentence_generation(model, char_to_index, 10, 'I get on w', 80))"
   ]
  }
 ],
 "metadata": {
  "kernelspec": {
   "display_name": "Python 3",
   "language": "python",
   "name": "python3"
  },
  "language_info": {
   "codemirror_mode": {
    "name": "ipython",
    "version": 3
   },
   "file_extension": ".py",
   "mimetype": "text/x-python",
   "name": "python",
   "nbconvert_exporter": "python",
   "pygments_lexer": "ipython3",
   "version": "3.7.6"
  }
 },
 "nbformat": 4,
 "nbformat_minor": 4
}
