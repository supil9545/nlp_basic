{
 "cells": [
  {
   "cell_type": "code",
   "execution_count": 3,
   "metadata": {},
   "outputs": [],
   "source": [
    "from tensorflow.keras.preprocessing.text import Tokenizer\n",
    "from tensorflow.keras.preprocessing.sequence import pad_sequences\n",
    "import numpy as np\n",
    "from tensorflow.keras.utils import to_categorical"
   ]
  },
  {
   "cell_type": "code",
   "execution_count": 4,
   "metadata": {},
   "outputs": [],
   "source": [
    "text=\"\"\"경마장에 있는 말이 뛰고 있다\\n\n",
    "그의 말이 법이다\\n\n",
    "가는 말이 고와야 오는 말이 곱다\\n\"\"\""
   ]
  },
  {
   "cell_type": "code",
   "execution_count": 5,
   "metadata": {},
   "outputs": [
    {
     "name": "stdout",
     "output_type": "stream",
     "text": [
      "단어 집합의 크기 : 12\n"
     ]
    }
   ],
   "source": [
    "t = Tokenizer()\n",
    "t.fit_on_texts([text])\n",
    "vocab_size = len(t.word_index)+1\n",
    "print('단어 집합의 크기 : %d' % vocab_size)"
   ]
  },
  {
   "cell_type": "code",
   "execution_count": 7,
   "metadata": {},
   "outputs": [
    {
     "name": "stdout",
     "output_type": "stream",
     "text": [
      "{'말이': 1, '경마장에': 2, '있는': 3, '뛰고': 4, '있다': 5, '그의': 6, '법이다': 7, '가는': 8, '고와야': 9, '오는': 10, '곱다': 11}\n"
     ]
    }
   ],
   "source": [
    "print(t.word_index)"
   ]
  },
  {
   "cell_type": "code",
   "execution_count": 14,
   "metadata": {},
   "outputs": [
    {
     "name": "stdout",
     "output_type": "stream",
     "text": [
      "학습에 사용할 샘플의 개수는 : 11\n"
     ]
    }
   ],
   "source": [
    "sequences = list()\n",
    "for line in text.split('\\n'):\n",
    "    encoded = t.texts_to_sequences([line])[0]\n",
    "    for i in range(1, len(encoded)):\n",
    "        sequence = encoded[:i+1]\n",
    "        sequences.append(sequence)\n",
    "        \n",
    "print('학습에 사용할 샘플의 개수는 : %d' %len(sequences))"
   ]
  },
  {
   "cell_type": "code",
   "execution_count": 15,
   "metadata": {},
   "outputs": [
    {
     "name": "stdout",
     "output_type": "stream",
     "text": [
      "[[2, 3], [2, 3, 1], [2, 3, 1, 4], [2, 3, 1, 4, 5], [6, 1], [6, 1, 7], [8, 1], [8, 1, 9], [8, 1, 9, 10], [8, 1, 9, 10, 1], [8, 1, 9, 10, 1, 11]]\n"
     ]
    }
   ],
   "source": [
    "print(sequences)"
   ]
  },
  {
   "cell_type": "code",
   "execution_count": 16,
   "metadata": {},
   "outputs": [
    {
     "name": "stdout",
     "output_type": "stream",
     "text": [
      "샘플 최대의 길이는 : 6\n"
     ]
    }
   ],
   "source": [
    "max_len = max(len(l) for l in sequences)\n",
    "print('샘플 최대의 길이는 : %d' %max_len)"
   ]
  },
  {
   "cell_type": "code",
   "execution_count": 17,
   "metadata": {},
   "outputs": [],
   "source": [
    "sequences = pad_sequences(sequences, maxlen = max_len, padding = 'pre')"
   ]
  },
  {
   "cell_type": "code",
   "execution_count": 18,
   "metadata": {},
   "outputs": [
    {
     "name": "stdout",
     "output_type": "stream",
     "text": [
      "[[ 0  0  0  0  2  3]\n",
      " [ 0  0  0  2  3  1]\n",
      " [ 0  0  2  3  1  4]\n",
      " [ 0  2  3  1  4  5]\n",
      " [ 0  0  0  0  6  1]\n",
      " [ 0  0  0  6  1  7]\n",
      " [ 0  0  0  0  8  1]\n",
      " [ 0  0  0  8  1  9]\n",
      " [ 0  0  8  1  9 10]\n",
      " [ 0  8  1  9 10  1]\n",
      " [ 8  1  9 10  1 11]]\n"
     ]
    }
   ],
   "source": [
    "print(sequences)"
   ]
  },
  {
   "cell_type": "code",
   "execution_count": 19,
   "metadata": {},
   "outputs": [],
   "source": [
    "sequences = np.array(sequences)\n",
    "X = sequences[:,:-1]\n",
    "y = sequences[:,-1]"
   ]
  },
  {
   "cell_type": "code",
   "execution_count": 20,
   "metadata": {},
   "outputs": [
    {
     "name": "stdout",
     "output_type": "stream",
     "text": [
      "[[ 0  0  0  0  2]\n",
      " [ 0  0  0  2  3]\n",
      " [ 0  0  2  3  1]\n",
      " [ 0  2  3  1  4]\n",
      " [ 0  0  0  0  6]\n",
      " [ 0  0  0  6  1]\n",
      " [ 0  0  0  0  8]\n",
      " [ 0  0  0  8  1]\n",
      " [ 0  0  8  1  9]\n",
      " [ 0  8  1  9 10]\n",
      " [ 8  1  9 10  1]]\n"
     ]
    }
   ],
   "source": [
    "print(X)"
   ]
  },
  {
   "cell_type": "code",
   "execution_count": 21,
   "metadata": {},
   "outputs": [
    {
     "name": "stdout",
     "output_type": "stream",
     "text": [
      "[ 3  1  4  5  1  7  1  9 10  1 11]\n"
     ]
    }
   ],
   "source": [
    "print(y)"
   ]
  },
  {
   "cell_type": "code",
   "execution_count": 22,
   "metadata": {},
   "outputs": [],
   "source": [
    "y = to_categorical(y, num_classes = vocab_size)"
   ]
  },
  {
   "cell_type": "code",
   "execution_count": 23,
   "metadata": {},
   "outputs": [
    {
     "name": "stdout",
     "output_type": "stream",
     "text": [
      "[[0. 0. 0. 1. 0. 0. 0. 0. 0. 0. 0. 0.]\n",
      " [0. 1. 0. 0. 0. 0. 0. 0. 0. 0. 0. 0.]\n",
      " [0. 0. 0. 0. 1. 0. 0. 0. 0. 0. 0. 0.]\n",
      " [0. 0. 0. 0. 0. 1. 0. 0. 0. 0. 0. 0.]\n",
      " [0. 1. 0. 0. 0. 0. 0. 0. 0. 0. 0. 0.]\n",
      " [0. 0. 0. 0. 0. 0. 0. 1. 0. 0. 0. 0.]\n",
      " [0. 1. 0. 0. 0. 0. 0. 0. 0. 0. 0. 0.]\n",
      " [0. 0. 0. 0. 0. 0. 0. 0. 0. 1. 0. 0.]\n",
      " [0. 0. 0. 0. 0. 0. 0. 0. 0. 0. 1. 0.]\n",
      " [0. 1. 0. 0. 0. 0. 0. 0. 0. 0. 0. 0.]\n",
      " [0. 0. 0. 0. 0. 0. 0. 0. 0. 0. 0. 1.]]\n"
     ]
    }
   ],
   "source": [
    "print(y)"
   ]
  },
  {
   "cell_type": "code",
   "execution_count": 24,
   "metadata": {},
   "outputs": [],
   "source": [
    "from tensorflow.keras.models import Sequential\n",
    "from tensorflow.keras.layers import Embedding, Dense, SimpleRNN"
   ]
  },
  {
   "cell_type": "code",
   "execution_count": 25,
   "metadata": {},
   "outputs": [
    {
     "name": "stdout",
     "output_type": "stream",
     "text": [
      "Train on 11 samples\n",
      "Epoch 1/200\n",
      "11/11 - 1s - loss: 2.5032 - accuracy: 0.0909\n",
      "Epoch 2/200\n",
      "11/11 - 0s - loss: 2.4886 - accuracy: 0.0909\n",
      "Epoch 3/200\n",
      "11/11 - 0s - loss: 2.4741 - accuracy: 0.1818\n",
      "Epoch 4/200\n",
      "11/11 - 0s - loss: 2.4594 - accuracy: 0.3636\n",
      "Epoch 5/200\n",
      "11/11 - 0s - loss: 2.4445 - accuracy: 0.4545\n",
      "Epoch 6/200\n",
      "11/11 - 0s - loss: 2.4293 - accuracy: 0.4545\n",
      "Epoch 7/200\n",
      "11/11 - 0s - loss: 2.4137 - accuracy: 0.4545\n",
      "Epoch 8/200\n",
      "11/11 - 0s - loss: 2.3976 - accuracy: 0.4545\n",
      "Epoch 9/200\n",
      "11/11 - 0s - loss: 2.3809 - accuracy: 0.4545\n",
      "Epoch 10/200\n",
      "11/11 - 0s - loss: 2.3637 - accuracy: 0.4545\n",
      "Epoch 11/200\n",
      "11/11 - 0s - loss: 2.3457 - accuracy: 0.4545\n",
      "Epoch 12/200\n",
      "11/11 - 0s - loss: 2.3269 - accuracy: 0.3636\n",
      "Epoch 13/200\n",
      "11/11 - 0s - loss: 2.3072 - accuracy: 0.4545\n",
      "Epoch 14/200\n",
      "11/11 - 0s - loss: 2.2866 - accuracy: 0.5455\n",
      "Epoch 15/200\n",
      "11/11 - 0s - loss: 2.2651 - accuracy: 0.5455\n",
      "Epoch 16/200\n",
      "11/11 - 0s - loss: 2.2425 - accuracy: 0.4545\n",
      "Epoch 17/200\n",
      "11/11 - 0s - loss: 2.2189 - accuracy: 0.4545\n",
      "Epoch 18/200\n",
      "11/11 - 0s - loss: 2.1942 - accuracy: 0.4545\n",
      "Epoch 19/200\n",
      "11/11 - 0s - loss: 2.1686 - accuracy: 0.4545\n",
      "Epoch 20/200\n",
      "11/11 - 0s - loss: 2.1420 - accuracy: 0.4545\n",
      "Epoch 21/200\n",
      "11/11 - 0s - loss: 2.1145 - accuracy: 0.4545\n",
      "Epoch 22/200\n",
      "11/11 - 0s - loss: 2.0864 - accuracy: 0.4545\n",
      "Epoch 23/200\n",
      "11/11 - 0s - loss: 2.0578 - accuracy: 0.4545\n",
      "Epoch 24/200\n",
      "11/11 - 0s - loss: 2.0289 - accuracy: 0.4545\n",
      "Epoch 25/200\n",
      "11/11 - 0s - loss: 2.0001 - accuracy: 0.4545\n",
      "Epoch 26/200\n",
      "11/11 - 0s - loss: 1.9715 - accuracy: 0.3636\n",
      "Epoch 27/200\n",
      "11/11 - 0s - loss: 1.9437 - accuracy: 0.3636\n",
      "Epoch 28/200\n",
      "11/11 - 0s - loss: 1.9170 - accuracy: 0.3636\n",
      "Epoch 29/200\n",
      "11/11 - 0s - loss: 1.8917 - accuracy: 0.3636\n",
      "Epoch 30/200\n",
      "11/11 - 0s - loss: 1.8681 - accuracy: 0.3636\n",
      "Epoch 31/200\n",
      "11/11 - 0s - loss: 1.8466 - accuracy: 0.3636\n",
      "Epoch 32/200\n",
      "11/11 - 0s - loss: 1.8271 - accuracy: 0.3636\n",
      "Epoch 33/200\n",
      "11/11 - 0s - loss: 1.8097 - accuracy: 0.3636\n",
      "Epoch 34/200\n",
      "11/11 - 0s - loss: 1.7943 - accuracy: 0.3636\n",
      "Epoch 35/200\n",
      "11/11 - 0s - loss: 1.7805 - accuracy: 0.3636\n",
      "Epoch 36/200\n",
      "11/11 - 0s - loss: 1.7680 - accuracy: 0.3636\n",
      "Epoch 37/200\n",
      "11/11 - 0s - loss: 1.7563 - accuracy: 0.3636\n",
      "Epoch 38/200\n",
      "11/11 - 0s - loss: 1.7449 - accuracy: 0.3636\n",
      "Epoch 39/200\n",
      "11/11 - 0s - loss: 1.7333 - accuracy: 0.3636\n",
      "Epoch 40/200\n",
      "11/11 - 0s - loss: 1.7213 - accuracy: 0.3636\n",
      "Epoch 41/200\n",
      "11/11 - 0s - loss: 1.7086 - accuracy: 0.3636\n",
      "Epoch 42/200\n",
      "11/11 - 0s - loss: 1.6950 - accuracy: 0.3636\n",
      "Epoch 43/200\n",
      "11/11 - 0s - loss: 1.6806 - accuracy: 0.3636\n",
      "Epoch 44/200\n",
      "11/11 - 0s - loss: 1.6653 - accuracy: 0.3636\n",
      "Epoch 45/200\n",
      "11/11 - 0s - loss: 1.6493 - accuracy: 0.3636\n",
      "Epoch 46/200\n",
      "11/11 - 0s - loss: 1.6326 - accuracy: 0.4545\n",
      "Epoch 47/200\n",
      "11/11 - 0s - loss: 1.6153 - accuracy: 0.4545\n",
      "Epoch 48/200\n",
      "11/11 - 0s - loss: 1.5976 - accuracy: 0.4545\n",
      "Epoch 49/200\n",
      "11/11 - 0s - loss: 1.5794 - accuracy: 0.4545\n",
      "Epoch 50/200\n",
      "11/11 - 0s - loss: 1.5609 - accuracy: 0.4545\n",
      "Epoch 51/200\n",
      "11/11 - 0s - loss: 1.5420 - accuracy: 0.4545\n",
      "Epoch 52/200\n",
      "11/11 - 0s - loss: 1.5228 - accuracy: 0.4545\n",
      "Epoch 53/200\n",
      "11/11 - 0s - loss: 1.5034 - accuracy: 0.4545\n",
      "Epoch 54/200\n",
      "11/11 - 0s - loss: 1.4836 - accuracy: 0.4545\n",
      "Epoch 55/200\n",
      "11/11 - 0s - loss: 1.4636 - accuracy: 0.4545\n",
      "Epoch 56/200\n",
      "11/11 - 0s - loss: 1.4433 - accuracy: 0.4545\n",
      "Epoch 57/200\n",
      "11/11 - 0s - loss: 1.4229 - accuracy: 0.4545\n",
      "Epoch 58/200\n",
      "11/11 - 0s - loss: 1.4022 - accuracy: 0.4545\n",
      "Epoch 59/200\n",
      "11/11 - 0s - loss: 1.3815 - accuracy: 0.4545\n",
      "Epoch 60/200\n",
      "11/11 - 0s - loss: 1.3606 - accuracy: 0.4545\n",
      "Epoch 61/200\n",
      "11/11 - 0s - loss: 1.3397 - accuracy: 0.4545\n",
      "Epoch 62/200\n",
      "11/11 - 0s - loss: 1.3189 - accuracy: 0.4545\n",
      "Epoch 63/200\n",
      "11/11 - 0s - loss: 1.2981 - accuracy: 0.5455\n",
      "Epoch 64/200\n",
      "11/11 - 0s - loss: 1.2774 - accuracy: 0.5455\n",
      "Epoch 65/200\n",
      "11/11 - 0s - loss: 1.2570 - accuracy: 0.5455\n",
      "Epoch 66/200\n",
      "11/11 - 0s - loss: 1.2367 - accuracy: 0.5455\n",
      "Epoch 67/200\n",
      "11/11 - 0s - loss: 1.2166 - accuracy: 0.5455\n",
      "Epoch 68/200\n",
      "11/11 - 0s - loss: 1.1969 - accuracy: 0.5455\n",
      "Epoch 69/200\n",
      "11/11 - 0s - loss: 1.1773 - accuracy: 0.6364\n",
      "Epoch 70/200\n",
      "11/11 - 0s - loss: 1.1581 - accuracy: 0.6364\n",
      "Epoch 71/200\n",
      "11/11 - 0s - loss: 1.1392 - accuracy: 0.7273\n",
      "Epoch 72/200\n",
      "11/11 - 0s - loss: 1.1205 - accuracy: 0.7273\n",
      "Epoch 73/200\n",
      "11/11 - 0s - loss: 1.1021 - accuracy: 0.7273\n",
      "Epoch 74/200\n",
      "11/11 - 0s - loss: 1.0841 - accuracy: 0.7273\n",
      "Epoch 75/200\n",
      "11/11 - 0s - loss: 1.0663 - accuracy: 0.8182\n",
      "Epoch 76/200\n",
      "11/11 - 0s - loss: 1.0488 - accuracy: 0.8182\n",
      "Epoch 77/200\n",
      "11/11 - 0s - loss: 1.0317 - accuracy: 0.8182\n",
      "Epoch 78/200\n",
      "11/11 - 0s - loss: 1.0148 - accuracy: 0.8182\n",
      "Epoch 79/200\n",
      "11/11 - 0s - loss: 0.9982 - accuracy: 0.8182\n",
      "Epoch 80/200\n",
      "11/11 - 0s - loss: 0.9819 - accuracy: 0.8182\n",
      "Epoch 81/200\n",
      "11/11 - 0s - loss: 0.9658 - accuracy: 0.8182\n",
      "Epoch 82/200\n",
      "11/11 - 0s - loss: 0.9500 - accuracy: 0.8182\n",
      "Epoch 83/200\n",
      "11/11 - 0s - loss: 0.9344 - accuracy: 0.8182\n",
      "Epoch 84/200\n",
      "11/11 - 0s - loss: 0.9191 - accuracy: 0.8182\n",
      "Epoch 85/200\n",
      "11/11 - 0s - loss: 0.9040 - accuracy: 0.8182\n",
      "Epoch 86/200\n",
      "11/11 - 0s - loss: 0.8891 - accuracy: 0.8182\n",
      "Epoch 87/200\n",
      "11/11 - 0s - loss: 0.8744 - accuracy: 0.8182\n",
      "Epoch 88/200\n",
      "11/11 - 0s - loss: 0.8600 - accuracy: 0.8182\n",
      "Epoch 89/200\n",
      "11/11 - 0s - loss: 0.8457 - accuracy: 0.8182\n",
      "Epoch 90/200\n",
      "11/11 - 0s - loss: 0.8316 - accuracy: 0.8182\n",
      "Epoch 91/200\n",
      "11/11 - 0s - loss: 0.8177 - accuracy: 0.8182\n",
      "Epoch 92/200\n",
      "11/11 - 0s - loss: 0.8040 - accuracy: 0.8182\n",
      "Epoch 93/200\n",
      "11/11 - 0s - loss: 0.7905 - accuracy: 0.8182\n",
      "Epoch 94/200\n",
      "11/11 - 0s - loss: 0.7771 - accuracy: 0.8182\n",
      "Epoch 95/200\n",
      "11/11 - 0s - loss: 0.7639 - accuracy: 0.8182\n",
      "Epoch 96/200\n",
      "11/11 - 0s - loss: 0.7508 - accuracy: 0.8182\n",
      "Epoch 97/200\n",
      "11/11 - 0s - loss: 0.7379 - accuracy: 0.8182\n",
      "Epoch 98/200\n",
      "11/11 - 0s - loss: 0.7251 - accuracy: 0.8182\n",
      "Epoch 99/200\n",
      "11/11 - 0s - loss: 0.7124 - accuracy: 0.8182\n",
      "Epoch 100/200\n",
      "11/11 - 0s - loss: 0.6998 - accuracy: 0.8182\n",
      "Epoch 101/200\n",
      "11/11 - 0s - loss: 0.6874 - accuracy: 0.8182\n",
      "Epoch 102/200\n",
      "11/11 - 0s - loss: 0.6750 - accuracy: 0.8182\n",
      "Epoch 103/200\n",
      "11/11 - 0s - loss: 0.6628 - accuracy: 0.8182\n",
      "Epoch 104/200\n",
      "11/11 - 0s - loss: 0.6506 - accuracy: 0.9091\n",
      "Epoch 105/200\n",
      "11/11 - 0s - loss: 0.6386 - accuracy: 0.9091\n",
      "Epoch 106/200\n",
      "11/11 - 0s - loss: 0.6266 - accuracy: 0.9091\n",
      "Epoch 107/200\n",
      "11/11 - 0s - loss: 0.6147 - accuracy: 0.9091\n",
      "Epoch 108/200\n",
      "11/11 - 0s - loss: 0.6028 - accuracy: 0.9091\n",
      "Epoch 109/200\n",
      "11/11 - 0s - loss: 0.5911 - accuracy: 0.9091\n",
      "Epoch 110/200\n",
      "11/11 - 0s - loss: 0.5795 - accuracy: 0.9091\n",
      "Epoch 111/200\n",
      "11/11 - 0s - loss: 0.5679 - accuracy: 0.9091\n",
      "Epoch 112/200\n",
      "11/11 - 0s - loss: 0.5564 - accuracy: 0.9091\n",
      "Epoch 113/200\n",
      "11/11 - 0s - loss: 0.5451 - accuracy: 0.9091\n",
      "Epoch 114/200\n",
      "11/11 - 0s - loss: 0.5338 - accuracy: 0.9091\n",
      "Epoch 115/200\n",
      "11/11 - 0s - loss: 0.5227 - accuracy: 0.9091\n",
      "Epoch 116/200\n",
      "11/11 - 0s - loss: 0.5116 - accuracy: 0.9091\n",
      "Epoch 117/200\n",
      "11/11 - 0s - loss: 0.5007 - accuracy: 0.9091\n",
      "Epoch 118/200\n",
      "11/11 - 0s - loss: 0.4899 - accuracy: 0.9091\n",
      "Epoch 119/200\n",
      "11/11 - 0s - loss: 0.4793 - accuracy: 0.9091\n",
      "Epoch 120/200\n",
      "11/11 - 0s - loss: 0.4687 - accuracy: 0.9091\n",
      "Epoch 121/200\n",
      "11/11 - 0s - loss: 0.4583 - accuracy: 0.9091\n",
      "Epoch 122/200\n",
      "11/11 - 0s - loss: 0.4481 - accuracy: 0.9091\n",
      "Epoch 123/200\n",
      "11/11 - 0s - loss: 0.4380 - accuracy: 0.9091\n",
      "Epoch 124/200\n",
      "11/11 - 0s - loss: 0.4281 - accuracy: 0.9091\n",
      "Epoch 125/200\n",
      "11/11 - 0s - loss: 0.4183 - accuracy: 0.9091\n",
      "Epoch 126/200\n",
      "11/11 - 0s - loss: 0.4087 - accuracy: 0.9091\n",
      "Epoch 127/200\n",
      "11/11 - 0s - loss: 0.3992 - accuracy: 0.9091\n",
      "Epoch 128/200\n",
      "11/11 - 0s - loss: 0.3900 - accuracy: 0.9091\n",
      "Epoch 129/200\n",
      "11/11 - 0s - loss: 0.3809 - accuracy: 0.9091\n",
      "Epoch 130/200\n",
      "11/11 - 0s - loss: 0.3720 - accuracy: 0.9091\n",
      "Epoch 131/200\n",
      "11/11 - 0s - loss: 0.3632 - accuracy: 0.9091\n",
      "Epoch 132/200\n",
      "11/11 - 0s - loss: 0.3547 - accuracy: 0.9091\n",
      "Epoch 133/200\n",
      "11/11 - 0s - loss: 0.3463 - accuracy: 0.9091\n",
      "Epoch 134/200\n",
      "11/11 - 0s - loss: 0.3382 - accuracy: 0.9091\n",
      "Epoch 135/200\n",
      "11/11 - 0s - loss: 0.3302 - accuracy: 1.0000\n",
      "Epoch 136/200\n",
      "11/11 - 0s - loss: 0.3224 - accuracy: 1.0000\n",
      "Epoch 137/200\n",
      "11/11 - 0s - loss: 0.3148 - accuracy: 1.0000\n",
      "Epoch 138/200\n",
      "11/11 - 0s - loss: 0.3074 - accuracy: 1.0000\n",
      "Epoch 139/200\n",
      "11/11 - 0s - loss: 0.3002 - accuracy: 1.0000\n",
      "Epoch 140/200\n",
      "11/11 - 0s - loss: 0.2931 - accuracy: 1.0000\n",
      "Epoch 141/200\n",
      "11/11 - 0s - loss: 0.2862 - accuracy: 1.0000\n"
     ]
    },
    {
     "name": "stdout",
     "output_type": "stream",
     "text": [
      "Epoch 142/200\n",
      "11/11 - 0s - loss: 0.2796 - accuracy: 1.0000\n",
      "Epoch 143/200\n",
      "11/11 - 0s - loss: 0.2731 - accuracy: 1.0000\n",
      "Epoch 144/200\n",
      "11/11 - 0s - loss: 0.2667 - accuracy: 1.0000\n",
      "Epoch 145/200\n",
      "11/11 - 0s - loss: 0.2606 - accuracy: 1.0000\n",
      "Epoch 146/200\n",
      "11/11 - 0s - loss: 0.2546 - accuracy: 1.0000\n",
      "Epoch 147/200\n",
      "11/11 - 0s - loss: 0.2487 - accuracy: 1.0000\n",
      "Epoch 148/200\n",
      "11/11 - 0s - loss: 0.2431 - accuracy: 1.0000\n",
      "Epoch 149/200\n",
      "11/11 - 0s - loss: 0.2375 - accuracy: 1.0000\n",
      "Epoch 150/200\n",
      "11/11 - 0s - loss: 0.2322 - accuracy: 1.0000\n",
      "Epoch 151/200\n",
      "11/11 - 0s - loss: 0.2270 - accuracy: 1.0000\n",
      "Epoch 152/200\n",
      "11/11 - 0s - loss: 0.2219 - accuracy: 1.0000\n",
      "Epoch 153/200\n",
      "11/11 - 0s - loss: 0.2170 - accuracy: 1.0000\n",
      "Epoch 154/200\n",
      "11/11 - 0s - loss: 0.2122 - accuracy: 1.0000\n",
      "Epoch 155/200\n",
      "11/11 - 0s - loss: 0.2075 - accuracy: 1.0000\n",
      "Epoch 156/200\n",
      "11/11 - 0s - loss: 0.2030 - accuracy: 1.0000\n",
      "Epoch 157/200\n",
      "11/11 - 0s - loss: 0.1986 - accuracy: 1.0000\n",
      "Epoch 158/200\n",
      "11/11 - 0s - loss: 0.1943 - accuracy: 1.0000\n",
      "Epoch 159/200\n",
      "11/11 - 0s - loss: 0.1902 - accuracy: 1.0000\n",
      "Epoch 160/200\n",
      "11/11 - 0s - loss: 0.1861 - accuracy: 1.0000\n",
      "Epoch 161/200\n",
      "11/11 - 0s - loss: 0.1822 - accuracy: 1.0000\n",
      "Epoch 162/200\n",
      "11/11 - 0s - loss: 0.1784 - accuracy: 1.0000\n",
      "Epoch 163/200\n",
      "11/11 - 0s - loss: 0.1747 - accuracy: 1.0000\n",
      "Epoch 164/200\n",
      "11/11 - 0s - loss: 0.1710 - accuracy: 1.0000\n",
      "Epoch 165/200\n",
      "11/11 - 0s - loss: 0.1675 - accuracy: 1.0000\n",
      "Epoch 166/200\n",
      "11/11 - 0s - loss: 0.1641 - accuracy: 1.0000\n",
      "Epoch 167/200\n",
      "11/11 - 0s - loss: 0.1608 - accuracy: 1.0000\n",
      "Epoch 168/200\n",
      "11/11 - 0s - loss: 0.1575 - accuracy: 1.0000\n",
      "Epoch 169/200\n",
      "11/11 - 0s - loss: 0.1544 - accuracy: 1.0000\n",
      "Epoch 170/200\n",
      "11/11 - 0s - loss: 0.1513 - accuracy: 1.0000\n",
      "Epoch 171/200\n",
      "11/11 - 0s - loss: 0.1483 - accuracy: 1.0000\n",
      "Epoch 172/200\n",
      "11/11 - 0s - loss: 0.1454 - accuracy: 1.0000\n",
      "Epoch 173/200\n",
      "11/11 - 0s - loss: 0.1426 - accuracy: 1.0000\n",
      "Epoch 174/200\n",
      "11/11 - 0s - loss: 0.1398 - accuracy: 1.0000\n",
      "Epoch 175/200\n",
      "11/11 - 0s - loss: 0.1372 - accuracy: 1.0000\n",
      "Epoch 176/200\n",
      "11/11 - 0s - loss: 0.1345 - accuracy: 1.0000\n",
      "Epoch 177/200\n",
      "11/11 - 0s - loss: 0.1320 - accuracy: 1.0000\n",
      "Epoch 178/200\n",
      "11/11 - 0s - loss: 0.1295 - accuracy: 1.0000\n",
      "Epoch 179/200\n",
      "11/11 - 0s - loss: 0.1271 - accuracy: 1.0000\n",
      "Epoch 180/200\n",
      "11/11 - 0s - loss: 0.1247 - accuracy: 1.0000\n",
      "Epoch 181/200\n",
      "11/11 - 0s - loss: 0.1224 - accuracy: 1.0000\n",
      "Epoch 182/200\n",
      "11/11 - 0s - loss: 0.1202 - accuracy: 1.0000\n",
      "Epoch 183/200\n",
      "11/11 - 0s - loss: 0.1180 - accuracy: 1.0000\n",
      "Epoch 184/200\n",
      "11/11 - 0s - loss: 0.1159 - accuracy: 1.0000\n",
      "Epoch 185/200\n",
      "11/11 - 0s - loss: 0.1138 - accuracy: 1.0000\n",
      "Epoch 186/200\n",
      "11/11 - 0s - loss: 0.1118 - accuracy: 1.0000\n",
      "Epoch 187/200\n",
      "11/11 - 0s - loss: 0.1098 - accuracy: 1.0000\n",
      "Epoch 188/200\n",
      "11/11 - 0s - loss: 0.1078 - accuracy: 1.0000\n",
      "Epoch 189/200\n",
      "11/11 - 0s - loss: 0.1060 - accuracy: 1.0000\n",
      "Epoch 190/200\n",
      "11/11 - 0s - loss: 0.1041 - accuracy: 1.0000\n",
      "Epoch 191/200\n",
      "11/11 - 0s - loss: 0.1023 - accuracy: 1.0000\n",
      "Epoch 192/200\n",
      "11/11 - 0s - loss: 0.1005 - accuracy: 1.0000\n",
      "Epoch 193/200\n",
      "11/11 - 0s - loss: 0.0988 - accuracy: 1.0000\n",
      "Epoch 194/200\n",
      "11/11 - 0s - loss: 0.0972 - accuracy: 1.0000\n",
      "Epoch 195/200\n",
      "11/11 - 0s - loss: 0.0955 - accuracy: 1.0000\n",
      "Epoch 196/200\n",
      "11/11 - 0s - loss: 0.0939 - accuracy: 1.0000\n",
      "Epoch 197/200\n",
      "11/11 - 0s - loss: 0.0924 - accuracy: 1.0000\n",
      "Epoch 198/200\n",
      "11/11 - 0s - loss: 0.0908 - accuracy: 1.0000\n",
      "Epoch 199/200\n",
      "11/11 - 0s - loss: 0.0893 - accuracy: 1.0000\n",
      "Epoch 200/200\n",
      "11/11 - 0s - loss: 0.0879 - accuracy: 1.0000\n"
     ]
    },
    {
     "data": {
      "text/plain": [
       "<tensorflow.python.keras.callbacks.History at 0x257ff7631c8>"
      ]
     },
     "execution_count": 25,
     "metadata": {},
     "output_type": "execute_result"
    }
   ],
   "source": [
    "model = Sequential()\n",
    "model.add(Embedding(vocab_size, 10, input_length = max_len-1))\n",
    "model.add(SimpleRNN(32))\n",
    "model.add(Dense(vocab_size, activation = 'softmax'))\n",
    "model.compile(loss = 'categorical_crossentropy', optimizer = 'adam', metrics = ['accuracy'])\n",
    "model.fit(X, y, epochs = 200, verbose = 2)"
   ]
  },
  {
   "cell_type": "code",
   "execution_count": 33,
   "metadata": {},
   "outputs": [],
   "source": [
    "def sentence_generation(model, t, current_word, n):\n",
    "    init_word = current_word\n",
    "    sentence = ''\n",
    "    for _ in range(n):\n",
    "        encoded = t.texts_to_sequences([current_word])[0]\n",
    "        encoded = pad_sequences([encoded], maxlen = 5, padding = 'pre')\n",
    "        result = model.predict_classes(encoded, verbose = 0)\n",
    "        \n",
    "        for word, index in t.word_index.items():\n",
    "            if index == result:\n",
    "                break\n",
    "        current_word = current_word + ' ' + word\n",
    "        sentence = sentence + ' ' + word\n",
    "    sentence = init_word+sentence\n",
    "    return sentence"
   ]
  },
  {
   "cell_type": "code",
   "execution_count": 38,
   "metadata": {},
   "outputs": [
    {
     "name": "stdout",
     "output_type": "stream",
     "text": [
      "가는 말이 고와야 오는 말이 곱다\n"
     ]
    }
   ],
   "source": [
    "print(sentence_generation(model, t, '가는', 5))"
   ]
  },
  {
   "cell_type": "code",
   "execution_count": 40,
   "metadata": {},
   "outputs": [],
   "source": [
    "import pandas as pd\n",
    "from string import punctuation\n",
    "from tensorflow.keras.preprocessing.text import Tokenizer\n",
    "from tensorflow.keras.preprocessing.sequence import pad_sequences\n",
    "import numpy as np\n",
    "from tensorflow.keras.utils import to_categorical"
   ]
  },
  {
   "cell_type": "code",
   "execution_count": 41,
   "metadata": {},
   "outputs": [
    {
     "data": {
      "text/html": [
       "<div>\n",
       "<style scoped>\n",
       "    .dataframe tbody tr th:only-of-type {\n",
       "        vertical-align: middle;\n",
       "    }\n",
       "\n",
       "    .dataframe tbody tr th {\n",
       "        vertical-align: top;\n",
       "    }\n",
       "\n",
       "    .dataframe thead th {\n",
       "        text-align: right;\n",
       "    }\n",
       "</style>\n",
       "<table border=\"1\" class=\"dataframe\">\n",
       "  <thead>\n",
       "    <tr style=\"text-align: right;\">\n",
       "      <th></th>\n",
       "      <th>abstract</th>\n",
       "      <th>articleID</th>\n",
       "      <th>articleWordCount</th>\n",
       "      <th>byline</th>\n",
       "      <th>documentType</th>\n",
       "      <th>headline</th>\n",
       "      <th>keywords</th>\n",
       "      <th>multimedia</th>\n",
       "      <th>newDesk</th>\n",
       "      <th>printPage</th>\n",
       "      <th>pubDate</th>\n",
       "      <th>sectionName</th>\n",
       "      <th>snippet</th>\n",
       "      <th>source</th>\n",
       "      <th>typeOfMaterial</th>\n",
       "      <th>webURL</th>\n",
       "    </tr>\n",
       "  </thead>\n",
       "  <tbody>\n",
       "    <tr>\n",
       "      <th>0</th>\n",
       "      <td>NaN</td>\n",
       "      <td>58def1347c459f24986d7c80</td>\n",
       "      <td>716</td>\n",
       "      <td>By STEPHEN HILTNER and SUSAN LEHMAN</td>\n",
       "      <td>article</td>\n",
       "      <td>Finding an Expansive View  of a Forgotten Peop...</td>\n",
       "      <td>['Photography', 'New York Times', 'Niger', 'Fe...</td>\n",
       "      <td>3</td>\n",
       "      <td>Insider</td>\n",
       "      <td>2</td>\n",
       "      <td>2017-04-01 00:15:41</td>\n",
       "      <td>Unknown</td>\n",
       "      <td>One of the largest photo displays in Times his...</td>\n",
       "      <td>The New York Times</td>\n",
       "      <td>News</td>\n",
       "      <td>https://www.nytimes.com/2017/03/31/insider/nig...</td>\n",
       "    </tr>\n",
       "    <tr>\n",
       "      <th>1</th>\n",
       "      <td>NaN</td>\n",
       "      <td>58def3237c459f24986d7c84</td>\n",
       "      <td>823</td>\n",
       "      <td>By GAIL COLLINS</td>\n",
       "      <td>article</td>\n",
       "      <td>And Now,  the Dreaded Trump Curse</td>\n",
       "      <td>['United States Politics and Government', 'Tru...</td>\n",
       "      <td>3</td>\n",
       "      <td>OpEd</td>\n",
       "      <td>23</td>\n",
       "      <td>2017-04-01 00:23:58</td>\n",
       "      <td>Unknown</td>\n",
       "      <td>Meet the gang from under the bus.</td>\n",
       "      <td>The New York Times</td>\n",
       "      <td>Op-Ed</td>\n",
       "      <td>https://www.nytimes.com/2017/03/31/opinion/and...</td>\n",
       "    </tr>\n",
       "    <tr>\n",
       "      <th>2</th>\n",
       "      <td>NaN</td>\n",
       "      <td>58def9f57c459f24986d7c90</td>\n",
       "      <td>575</td>\n",
       "      <td>By THE EDITORIAL BOARD</td>\n",
       "      <td>article</td>\n",
       "      <td>Venezuela’s Descent Into Dictatorship</td>\n",
       "      <td>['Venezuela', 'Politics and Government', 'Madu...</td>\n",
       "      <td>3</td>\n",
       "      <td>Editorial</td>\n",
       "      <td>22</td>\n",
       "      <td>2017-04-01 00:53:06</td>\n",
       "      <td>Unknown</td>\n",
       "      <td>A court ruling annulling the legislature’s aut...</td>\n",
       "      <td>The New York Times</td>\n",
       "      <td>Editorial</td>\n",
       "      <td>https://www.nytimes.com/2017/03/31/opinion/ven...</td>\n",
       "    </tr>\n",
       "    <tr>\n",
       "      <th>3</th>\n",
       "      <td>NaN</td>\n",
       "      <td>58defd317c459f24986d7c95</td>\n",
       "      <td>1374</td>\n",
       "      <td>By MICHAEL POWELL</td>\n",
       "      <td>article</td>\n",
       "      <td>Stain Permeates Basketball Blue Blood</td>\n",
       "      <td>['Basketball (College)', 'University of North ...</td>\n",
       "      <td>3</td>\n",
       "      <td>Sports</td>\n",
       "      <td>1</td>\n",
       "      <td>2017-04-01 01:06:52</td>\n",
       "      <td>College Basketball</td>\n",
       "      <td>For two decades, until 2013, North Carolina en...</td>\n",
       "      <td>The New York Times</td>\n",
       "      <td>News</td>\n",
       "      <td>https://www.nytimes.com/2017/03/31/sports/ncaa...</td>\n",
       "    </tr>\n",
       "    <tr>\n",
       "      <th>4</th>\n",
       "      <td>NaN</td>\n",
       "      <td>58df09b77c459f24986d7ca7</td>\n",
       "      <td>708</td>\n",
       "      <td>By DEB AMLEN</td>\n",
       "      <td>article</td>\n",
       "      <td>Taking Things for Granted</td>\n",
       "      <td>['Crossword Puzzles']</td>\n",
       "      <td>3</td>\n",
       "      <td>Games</td>\n",
       "      <td>0</td>\n",
       "      <td>2017-04-01 02:00:14</td>\n",
       "      <td>Unknown</td>\n",
       "      <td>In which Howard Barkin and Will Shortz teach u...</td>\n",
       "      <td>The New York Times</td>\n",
       "      <td>News</td>\n",
       "      <td>https://www.nytimes.com/2017/03/31/crosswords/...</td>\n",
       "    </tr>\n",
       "  </tbody>\n",
       "</table>\n",
       "</div>"
      ],
      "text/plain": [
       "  abstract                 articleID  ...  typeOfMaterial                                             webURL\n",
       "0      NaN  58def1347c459f24986d7c80  ...            News  https://www.nytimes.com/2017/03/31/insider/nig...\n",
       "1      NaN  58def3237c459f24986d7c84  ...           Op-Ed  https://www.nytimes.com/2017/03/31/opinion/and...\n",
       "2      NaN  58def9f57c459f24986d7c90  ...       Editorial  https://www.nytimes.com/2017/03/31/opinion/ven...\n",
       "3      NaN  58defd317c459f24986d7c95  ...            News  https://www.nytimes.com/2017/03/31/sports/ncaa...\n",
       "4      NaN  58df09b77c459f24986d7ca7  ...            News  https://www.nytimes.com/2017/03/31/crosswords/...\n",
       "\n",
       "[5 rows x 16 columns]"
      ]
     },
     "execution_count": 41,
     "metadata": {},
     "output_type": "execute_result"
    }
   ],
   "source": [
    "df = pd.read_csv('ArticlesApril2017.csv')\n",
    "df.head()"
   ]
  },
  {
   "cell_type": "code",
   "execution_count": 42,
   "metadata": {},
   "outputs": [
    {
     "name": "stdout",
     "output_type": "stream",
     "text": [
      "열의 개수 :  16\n",
      "Index(['abstract', 'articleID', 'articleWordCount', 'byline', 'documentType',\n",
      "       'headline', 'keywords', 'multimedia', 'newDesk', 'printPage', 'pubDate',\n",
      "       'sectionName', 'snippet', 'source', 'typeOfMaterial', 'webURL'],\n",
      "      dtype='object')\n"
     ]
    }
   ],
   "source": [
    "print('열의 개수 : ', len(df.columns))\n",
    "print(df.columns)"
   ]
  },
  {
   "cell_type": "code",
   "execution_count": 43,
   "metadata": {},
   "outputs": [
    {
     "data": {
      "text/plain": [
       "False"
      ]
     },
     "execution_count": 43,
     "metadata": {},
     "output_type": "execute_result"
    }
   ],
   "source": [
    "df['headline'].isnull().values.any()"
   ]
  },
  {
   "cell_type": "code",
   "execution_count": 45,
   "metadata": {},
   "outputs": [
    {
     "data": {
      "text/plain": [
       "['Finding an Expansive View  of a Forgotten People in Niger',\n",
       " 'And Now,  the Dreaded Trump Curse',\n",
       " 'Venezuela’s Descent Into Dictatorship',\n",
       " 'Stain Permeates Basketball Blue Blood',\n",
       " 'Taking Things for Granted']"
      ]
     },
     "execution_count": 45,
     "metadata": {},
     "output_type": "execute_result"
    }
   ],
   "source": [
    "headline = []\n",
    "headline.extend(list(df.headline.values))\n",
    "headline[:5]"
   ]
  },
  {
   "cell_type": "code",
   "execution_count": 47,
   "metadata": {},
   "outputs": [
    {
     "name": "stdout",
     "output_type": "stream",
     "text": [
      "총 샘플의 수 : 886\n"
     ]
    }
   ],
   "source": [
    "print('총 샘플의 수 : %d' %len(headline))"
   ]
  },
  {
   "cell_type": "code",
   "execution_count": 48,
   "metadata": {},
   "outputs": [
    {
     "name": "stdout",
     "output_type": "stream",
     "text": [
      "노이즈 제거 후 샘플의 개수 : 886\n"
     ]
    }
   ],
   "source": [
    "headline = [n for n in headline if n!='Unkown']\n",
    "print('노이즈 제거 후 샘플의 개수 : %d' %len(headline))"
   ]
  },
  {
   "cell_type": "code",
   "execution_count": 50,
   "metadata": {},
   "outputs": [
    {
     "data": {
      "text/plain": [
       "['finding an expansive view  of a forgotten people in niger',\n",
       " 'and now  the dreaded trump curse',\n",
       " 'venezuelas descent into dictatorship',\n",
       " 'stain permeates basketball blue blood',\n",
       " 'taking things for granted']"
      ]
     },
     "execution_count": 50,
     "metadata": {},
     "output_type": "execute_result"
    }
   ],
   "source": [
    "def repreprocessing(s):\n",
    "    s = s.encode('utf-8').decode('ascii', 'ignore')\n",
    "    return ''.join(c for c in s if c not in punctuation).lower()\n",
    "\n",
    "text = [repreprocessing(x) for x in headline]\n",
    "text[:5]"
   ]
  },
  {
   "cell_type": "code",
   "execution_count": 51,
   "metadata": {},
   "outputs": [
    {
     "name": "stdout",
     "output_type": "stream",
     "text": [
      "단어 집합의 크기 : 2423\n"
     ]
    }
   ],
   "source": [
    "t = Tokenizer()\n",
    "t.fit_on_texts(text)\n",
    "vocab_size = len(t.word_index)+1\n",
    "print('단어 집합의 크기 : %d' %vocab_size)"
   ]
  },
  {
   "cell_type": "code",
   "execution_count": 52,
   "metadata": {},
   "outputs": [
    {
     "data": {
      "text/plain": [
       "[[170, 18],\n",
       " [170, 18, 666],\n",
       " [170, 18, 666, 368],\n",
       " [170, 18, 666, 368, 4],\n",
       " [170, 18, 666, 368, 4, 2],\n",
       " [170, 18, 666, 368, 4, 2, 667],\n",
       " [170, 18, 666, 368, 4, 2, 667, 171],\n",
       " [170, 18, 666, 368, 4, 2, 667, 171, 5],\n",
       " [170, 18, 666, 368, 4, 2, 667, 171, 5, 668],\n",
       " [6, 81],\n",
       " [6, 81, 1]]"
      ]
     },
     "execution_count": 52,
     "metadata": {},
     "output_type": "execute_result"
    }
   ],
   "source": [
    "sequences = list()\n",
    "\n",
    "for line in text:\n",
    "    encoded = t.texts_to_sequences([line])[0]\n",
    "    for i in range(1, len(encoded)):\n",
    "        sequence = encoded[:i+1]\n",
    "        sequences.append(sequence)\n",
    "        \n",
    "sequences[:11]"
   ]
  },
  {
   "cell_type": "code",
   "execution_count": 63,
   "metadata": {},
   "outputs": [
    {
     "name": "stdout",
     "output_type": "stream",
     "text": [
      "1\n",
      "빈도수 상위1번째 단어 : the\n"
     ]
    }
   ],
   "source": [
    "index_to_word = {}\n",
    "for key, value in t.word_index.items():\n",
    "    index_to_word[value] = key\n",
    "n = int(input())\n",
    "print('빈도수 상위{}번째 단어 : {}'.format(n, index_to_word[n]))"
   ]
  },
  {
   "cell_type": "code",
   "execution_count": 65,
   "metadata": {},
   "outputs": [
    {
     "name": "stdout",
     "output_type": "stream",
     "text": [
      "샘플의 최대 길이 : 19\n"
     ]
    }
   ],
   "source": [
    "max_len = max(len(l) for l in sequences)\n",
    "print('샘플의 최대 길이 : %d' %max_len)"
   ]
  },
  {
   "cell_type": "code",
   "execution_count": 66,
   "metadata": {},
   "outputs": [
    {
     "name": "stdout",
     "output_type": "stream",
     "text": [
      "[[  0   0   0   0   0   0   0   0   0   0   0   0   0   0   0   0   0 170\n",
      "   18]\n",
      " [  0   0   0   0   0   0   0   0   0   0   0   0   0   0   0   0 170  18\n",
      "  666]\n",
      " [  0   0   0   0   0   0   0   0   0   0   0   0   0   0   0 170  18 666\n",
      "  368]]\n"
     ]
    }
   ],
   "source": [
    "sequences = pad_sequences(sequences, maxlen = max_len, padding = 'pre')\n",
    "print(sequences[:3])"
   ]
  },
  {
   "cell_type": "code",
   "execution_count": 67,
   "metadata": {},
   "outputs": [],
   "source": [
    "sequences = np.array(sequences)\n",
    "X = sequences[:,:-1]\n",
    "y = sequences[:,-1]"
   ]
  },
  {
   "cell_type": "code",
   "execution_count": 68,
   "metadata": {},
   "outputs": [
    {
     "name": "stdout",
     "output_type": "stream",
     "text": [
      "[[   0    0    0 ...    0    0  170]\n",
      " [   0    0    0 ...    0  170   18]\n",
      " [   0    0    0 ...  170   18  666]\n",
      " ...\n",
      " [   0    0    0 ...   97 2421   58]\n",
      " [   0    0    0 ... 2421   58  366]\n",
      " [   0    0    0 ...   58  366   95]]\n"
     ]
    }
   ],
   "source": [
    "print(X)"
   ]
  },
  {
   "cell_type": "code",
   "execution_count": 69,
   "metadata": {},
   "outputs": [
    {
     "name": "stdout",
     "output_type": "stream",
     "text": [
      "[  18  666  368 ...  366   95 2422]\n"
     ]
    }
   ],
   "source": [
    "print(y)"
   ]
  },
  {
   "cell_type": "code",
   "execution_count": 70,
   "metadata": {},
   "outputs": [],
   "source": [
    "y = to_categorical(y, num_classes = vocab_size)"
   ]
  },
  {
   "cell_type": "code",
   "execution_count": 72,
   "metadata": {},
   "outputs": [],
   "source": [
    "from tensorflow.keras.layers import LSTM"
   ]
  },
  {
   "cell_type": "code",
   "execution_count": 74,
   "metadata": {},
   "outputs": [
    {
     "name": "stdout",
     "output_type": "stream",
     "text": [
      "Train on 4806 samples\n",
      "Epoch 1/200\n",
      "4806/4806 - 3s - loss: 7.4268 - accuracy: 0.0262\n",
      "Epoch 2/200\n",
      "4806/4806 - 2s - loss: 6.9088 - accuracy: 0.0306\n",
      "Epoch 3/200\n",
      "4806/4806 - 2s - loss: 6.7916 - accuracy: 0.0347\n",
      "Epoch 4/200\n",
      "4806/4806 - 2s - loss: 6.7051 - accuracy: 0.0320\n",
      "Epoch 5/200\n",
      "4806/4806 - 2s - loss: 6.6166 - accuracy: 0.0408\n",
      "Epoch 6/200\n",
      "4806/4806 - 2s - loss: 6.5173 - accuracy: 0.0470\n",
      "Epoch 7/200\n",
      "4806/4806 - 2s - loss: 6.4010 - accuracy: 0.0489\n",
      "Epoch 8/200\n",
      "4806/4806 - 2s - loss: 6.2698 - accuracy: 0.0470\n",
      "Epoch 9/200\n",
      "4806/4806 - 2s - loss: 6.1244 - accuracy: 0.0506\n",
      "Epoch 10/200\n",
      "4806/4806 - 2s - loss: 5.9786 - accuracy: 0.0506\n",
      "Epoch 11/200\n",
      "4806/4806 - 2s - loss: 5.8297 - accuracy: 0.0601\n",
      "Epoch 12/200\n",
      "4806/4806 - 2s - loss: 5.6875 - accuracy: 0.0643\n",
      "Epoch 13/200\n",
      "4806/4806 - 2s - loss: 5.5460 - accuracy: 0.0643\n",
      "Epoch 14/200\n",
      "4806/4806 - 2s - loss: 5.4086 - accuracy: 0.0737\n",
      "Epoch 15/200\n",
      "4806/4806 - 2s - loss: 5.2760 - accuracy: 0.0755\n",
      "Epoch 16/200\n",
      "4806/4806 - 2s - loss: 5.1482 - accuracy: 0.0762\n",
      "Epoch 17/200\n",
      "4806/4806 - 2s - loss: 5.0200 - accuracy: 0.0805\n",
      "Epoch 18/200\n",
      "4806/4806 - 2s - loss: 4.9003 - accuracy: 0.0901\n",
      "Epoch 19/200\n",
      "4806/4806 - 2s - loss: 4.7810 - accuracy: 0.0978\n",
      "Epoch 20/200\n",
      "4806/4806 - 2s - loss: 4.6673 - accuracy: 0.1084\n",
      "Epoch 21/200\n",
      "4806/4806 - 2s - loss: 4.5536 - accuracy: 0.1151\n",
      "Epoch 22/200\n",
      "4806/4806 - 2s - loss: 4.4463 - accuracy: 0.1298\n",
      "Epoch 23/200\n",
      "4806/4806 - 2s - loss: 4.3393 - accuracy: 0.1421\n",
      "Epoch 24/200\n",
      "4806/4806 - 2s - loss: 4.2391 - accuracy: 0.1596\n",
      "Epoch 25/200\n",
      "4806/4806 - 2s - loss: 4.1406 - accuracy: 0.1739\n",
      "Epoch 26/200\n",
      "4806/4806 - 2s - loss: 4.0409 - accuracy: 0.1908\n",
      "Epoch 27/200\n",
      "4806/4806 - 2s - loss: 3.9485 - accuracy: 0.2056\n",
      "Epoch 28/200\n",
      "4806/4806 - 2s - loss: 3.8577 - accuracy: 0.2266\n",
      "Epoch 29/200\n",
      "4806/4806 - 2s - loss: 3.7689 - accuracy: 0.2343\n",
      "Epoch 30/200\n",
      "4806/4806 - 2s - loss: 3.6836 - accuracy: 0.2549\n",
      "Epoch 31/200\n",
      "4806/4806 - 2s - loss: 3.5973 - accuracy: 0.2682\n",
      "Epoch 32/200\n",
      "4806/4806 - 2s - loss: 3.5176 - accuracy: 0.2792\n",
      "Epoch 33/200\n",
      "4806/4806 - 2s - loss: 3.4388 - accuracy: 0.2942\n",
      "Epoch 34/200\n",
      "4806/4806 - 2s - loss: 3.3595 - accuracy: 0.3129\n",
      "Epoch 35/200\n",
      "4806/4806 - 2s - loss: 3.2845 - accuracy: 0.3242\n",
      "Epoch 36/200\n",
      "4806/4806 - 2s - loss: 3.2119 - accuracy: 0.3435\n",
      "Epoch 37/200\n",
      "4806/4806 - 2s - loss: 3.1419 - accuracy: 0.3483\n",
      "Epoch 38/200\n",
      "4806/4806 - 2s - loss: 3.0722 - accuracy: 0.3635\n",
      "Epoch 39/200\n",
      "4806/4806 - 2s - loss: 3.0074 - accuracy: 0.3745\n",
      "Epoch 40/200\n",
      "4806/4806 - 2s - loss: 2.9429 - accuracy: 0.3889\n",
      "Epoch 41/200\n",
      "4806/4806 - 2s - loss: 2.8812 - accuracy: 0.4014\n",
      "Epoch 42/200\n",
      "4806/4806 - 2s - loss: 2.8214 - accuracy: 0.4068\n",
      "Epoch 43/200\n",
      "4806/4806 - 2s - loss: 2.7615 - accuracy: 0.4218\n",
      "Epoch 44/200\n",
      "4806/4806 - 2s - loss: 2.7028 - accuracy: 0.4290\n",
      "Epoch 45/200\n",
      "4806/4806 - 2s - loss: 2.6507 - accuracy: 0.4407\n",
      "Epoch 46/200\n",
      "4806/4806 - 2s - loss: 2.5968 - accuracy: 0.4536\n",
      "Epoch 47/200\n",
      "4806/4806 - 2s - loss: 2.5436 - accuracy: 0.4613\n",
      "Epoch 48/200\n",
      "4806/4806 - 2s - loss: 2.4925 - accuracy: 0.4738\n",
      "Epoch 49/200\n",
      "4806/4806 - 2s - loss: 2.4439 - accuracy: 0.4798\n",
      "Epoch 50/200\n",
      "4806/4806 - 2s - loss: 2.3969 - accuracy: 0.4946\n",
      "Epoch 51/200\n",
      "4806/4806 - 2s - loss: 2.3511 - accuracy: 0.5029\n",
      "Epoch 52/200\n",
      "4806/4806 - 2s - loss: 2.3065 - accuracy: 0.5104\n",
      "Epoch 53/200\n",
      "4806/4806 - 2s - loss: 2.2614 - accuracy: 0.5200\n",
      "Epoch 54/200\n",
      "4806/4806 - 2s - loss: 2.2193 - accuracy: 0.5354\n",
      "Epoch 55/200\n",
      "4806/4806 - 2s - loss: 2.1779 - accuracy: 0.5397\n",
      "Epoch 56/200\n",
      "4806/4806 - 2s - loss: 2.1352 - accuracy: 0.5522\n",
      "Epoch 57/200\n",
      "4806/4806 - 2s - loss: 2.0947 - accuracy: 0.5643\n",
      "Epoch 58/200\n",
      "4806/4806 - 2s - loss: 2.0570 - accuracy: 0.5682\n",
      "Epoch 59/200\n",
      "4806/4806 - 2s - loss: 2.0182 - accuracy: 0.5782\n",
      "Epoch 60/200\n",
      "4806/4806 - 2s - loss: 1.9808 - accuracy: 0.5878\n",
      "Epoch 61/200\n",
      "4806/4806 - 2s - loss: 1.9452 - accuracy: 0.5901\n",
      "Epoch 62/200\n",
      "4806/4806 - 2s - loss: 1.9109 - accuracy: 0.5993\n",
      "Epoch 63/200\n",
      "4806/4806 - 2s - loss: 1.8751 - accuracy: 0.6047\n",
      "Epoch 64/200\n",
      "4806/4806 - 2s - loss: 1.8427 - accuracy: 0.6113\n",
      "Epoch 65/200\n",
      "4806/4806 - 2s - loss: 1.8084 - accuracy: 0.6234\n",
      "Epoch 66/200\n",
      "4806/4806 - 2s - loss: 1.7756 - accuracy: 0.6313\n",
      "Epoch 67/200\n",
      "4806/4806 - 2s - loss: 1.7439 - accuracy: 0.6355\n",
      "Epoch 68/200\n",
      "4806/4806 - 2s - loss: 1.7129 - accuracy: 0.6419\n",
      "Epoch 69/200\n",
      "4806/4806 - 2s - loss: 1.6812 - accuracy: 0.6546\n",
      "Epoch 70/200\n",
      "4806/4806 - 2s - loss: 1.6493 - accuracy: 0.6594\n",
      "Epoch 71/200\n",
      "4806/4806 - 2s - loss: 1.6201 - accuracy: 0.6660\n",
      "Epoch 72/200\n",
      "4806/4806 - 2s - loss: 1.5918 - accuracy: 0.6704\n",
      "Epoch 73/200\n",
      "4806/4806 - 2s - loss: 1.5650 - accuracy: 0.6779\n",
      "Epoch 74/200\n",
      "4806/4806 - 2s - loss: 1.5332 - accuracy: 0.6864\n",
      "Epoch 75/200\n",
      "4806/4806 - 2s - loss: 1.5055 - accuracy: 0.6866\n",
      "Epoch 76/200\n",
      "4806/4806 - 2s - loss: 1.4815 - accuracy: 0.7002\n",
      "Epoch 77/200\n",
      "4806/4806 - 2s - loss: 1.4524 - accuracy: 0.7002\n",
      "Epoch 78/200\n",
      "4806/4806 - 2s - loss: 1.4271 - accuracy: 0.7060\n",
      "Epoch 79/200\n",
      "4806/4806 - 2s - loss: 1.4007 - accuracy: 0.7102\n",
      "Epoch 80/200\n",
      "4806/4806 - 2s - loss: 1.3767 - accuracy: 0.7162\n",
      "Epoch 81/200\n",
      "4806/4806 - 2s - loss: 1.3524 - accuracy: 0.7195\n",
      "Epoch 82/200\n",
      "4806/4806 - 2s - loss: 1.3286 - accuracy: 0.7278\n",
      "Epoch 83/200\n",
      "4806/4806 - 2s - loss: 1.3067 - accuracy: 0.7308\n",
      "Epoch 84/200\n",
      "4806/4806 - 2s - loss: 1.2807 - accuracy: 0.7368\n",
      "Epoch 85/200\n",
      "4806/4806 - 2s - loss: 1.2568 - accuracy: 0.7443\n",
      "Epoch 86/200\n",
      "4806/4806 - 2s - loss: 1.2333 - accuracy: 0.7514\n",
      "Epoch 87/200\n",
      "4806/4806 - 2s - loss: 1.2126 - accuracy: 0.7514\n",
      "Epoch 88/200\n",
      "4806/4806 - 2s - loss: 1.1916 - accuracy: 0.7576\n",
      "Epoch 89/200\n",
      "4806/4806 - 2s - loss: 1.1706 - accuracy: 0.7626\n",
      "Epoch 90/200\n",
      "4806/4806 - 2s - loss: 1.1503 - accuracy: 0.7670\n",
      "Epoch 91/200\n",
      "4806/4806 - 2s - loss: 1.1295 - accuracy: 0.7711\n",
      "Epoch 92/200\n",
      "4806/4806 - 2s - loss: 1.1102 - accuracy: 0.7765\n",
      "Epoch 93/200\n",
      "4806/4806 - 2s - loss: 1.0920 - accuracy: 0.7788\n",
      "Epoch 94/200\n",
      "4806/4806 - 2s - loss: 1.0696 - accuracy: 0.7805\n",
      "Epoch 95/200\n",
      "4806/4806 - 2s - loss: 1.0503 - accuracy: 0.7876\n",
      "Epoch 96/200\n",
      "4806/4806 - 2s - loss: 1.0311 - accuracy: 0.7926\n",
      "Epoch 97/200\n",
      "4806/4806 - 2s - loss: 1.0131 - accuracy: 0.7963\n",
      "Epoch 98/200\n",
      "4806/4806 - 2s - loss: 0.9955 - accuracy: 0.7948\n",
      "Epoch 99/200\n",
      "4806/4806 - 2s - loss: 0.9777 - accuracy: 0.7982\n",
      "Epoch 100/200\n",
      "4806/4806 - 2s - loss: 0.9586 - accuracy: 0.8025\n",
      "Epoch 101/200\n",
      "4806/4806 - 2s - loss: 0.9437 - accuracy: 0.8048\n",
      "Epoch 102/200\n",
      "4806/4806 - 2s - loss: 0.9275 - accuracy: 0.8107\n",
      "Epoch 103/200\n",
      "4806/4806 - 2s - loss: 0.9117 - accuracy: 0.8121\n",
      "Epoch 104/200\n",
      "4806/4806 - 2s - loss: 0.8971 - accuracy: 0.8159\n",
      "Epoch 105/200\n",
      "4806/4806 - 2s - loss: 0.8804 - accuracy: 0.8198\n",
      "Epoch 106/200\n",
      "4806/4806 - 2s - loss: 0.8629 - accuracy: 0.8219\n",
      "Epoch 107/200\n",
      "4806/4806 - 2s - loss: 0.8482 - accuracy: 0.8250\n",
      "Epoch 108/200\n",
      "4806/4806 - 2s - loss: 0.8335 - accuracy: 0.8271\n",
      "Epoch 109/200\n",
      "4806/4806 - 2s - loss: 0.8210 - accuracy: 0.8296\n",
      "Epoch 110/200\n",
      "4806/4806 - 2s - loss: 0.8041 - accuracy: 0.8329\n",
      "Epoch 111/200\n",
      "4806/4806 - 2s - loss: 0.7928 - accuracy: 0.8335\n",
      "Epoch 112/200\n",
      "4806/4806 - 2s - loss: 0.7779 - accuracy: 0.8377\n",
      "Epoch 113/200\n",
      "4806/4806 - 2s - loss: 0.7652 - accuracy: 0.8412\n",
      "Epoch 114/200\n",
      "4806/4806 - 2s - loss: 0.7514 - accuracy: 0.8408\n",
      "Epoch 115/200\n",
      "4806/4806 - 2s - loss: 0.7390 - accuracy: 0.8414\n",
      "Epoch 116/200\n",
      "4806/4806 - 2s - loss: 0.7265 - accuracy: 0.8469\n",
      "Epoch 117/200\n",
      "4806/4806 - 2s - loss: 0.7165 - accuracy: 0.8491\n",
      "Epoch 118/200\n",
      "4806/4806 - 2s - loss: 0.7026 - accuracy: 0.8516\n",
      "Epoch 119/200\n",
      "4806/4806 - 2s - loss: 0.6896 - accuracy: 0.8508\n",
      "Epoch 120/200\n",
      "4806/4806 - 2s - loss: 0.6796 - accuracy: 0.8539\n",
      "Epoch 121/200\n",
      "4806/4806 - 2s - loss: 0.6676 - accuracy: 0.8568\n",
      "Epoch 122/200\n",
      "4806/4806 - 2s - loss: 0.6572 - accuracy: 0.8602\n",
      "Epoch 123/200\n",
      "4806/4806 - 2s - loss: 0.6468 - accuracy: 0.8589\n",
      "Epoch 124/200\n",
      "4806/4806 - 2s - loss: 0.6340 - accuracy: 0.8643\n",
      "Epoch 125/200\n",
      "4806/4806 - 2s - loss: 0.6252 - accuracy: 0.8650\n",
      "Epoch 126/200\n",
      "4806/4806 - 2s - loss: 0.6139 - accuracy: 0.8689\n",
      "Epoch 127/200\n",
      "4806/4806 - 2s - loss: 0.6026 - accuracy: 0.8697\n",
      "Epoch 128/200\n",
      "4806/4806 - 2s - loss: 0.5956 - accuracy: 0.8677\n",
      "Epoch 129/200\n",
      "4806/4806 - 2s - loss: 0.5869 - accuracy: 0.8735\n",
      "Epoch 130/200\n",
      "4806/4806 - 2s - loss: 0.5755 - accuracy: 0.8768\n",
      "Epoch 131/200\n",
      "4806/4806 - 2s - loss: 0.5719 - accuracy: 0.8739\n",
      "Epoch 132/200\n",
      "4806/4806 - 2s - loss: 0.5586 - accuracy: 0.8785\n"
     ]
    },
    {
     "name": "stdout",
     "output_type": "stream",
     "text": [
      "Epoch 133/200\n",
      "4806/4806 - 2s - loss: 0.5499 - accuracy: 0.8770\n",
      "Epoch 134/200\n",
      "4806/4806 - 2s - loss: 0.5404 - accuracy: 0.8822\n",
      "Epoch 135/200\n",
      "4806/4806 - 2s - loss: 0.5320 - accuracy: 0.8810\n",
      "Epoch 136/200\n",
      "4806/4806 - 2s - loss: 0.5236 - accuracy: 0.8847\n",
      "Epoch 137/200\n",
      "4806/4806 - 2s - loss: 0.5162 - accuracy: 0.8858\n",
      "Epoch 138/200\n",
      "4806/4806 - 2s - loss: 0.5083 - accuracy: 0.8862\n",
      "Epoch 139/200\n",
      "4806/4806 - 2s - loss: 0.5012 - accuracy: 0.8864\n",
      "Epoch 140/200\n",
      "4806/4806 - 2s - loss: 0.4934 - accuracy: 0.8885\n",
      "Epoch 141/200\n",
      "4806/4806 - 2s - loss: 0.4858 - accuracy: 0.8891\n",
      "Epoch 142/200\n",
      "4806/4806 - 2s - loss: 0.4783 - accuracy: 0.8899\n",
      "Epoch 143/200\n",
      "4806/4806 - 2s - loss: 0.4711 - accuracy: 0.8928\n",
      "Epoch 144/200\n",
      "4806/4806 - 2s - loss: 0.4654 - accuracy: 0.8922\n",
      "Epoch 145/200\n",
      "4806/4806 - 2s - loss: 0.4586 - accuracy: 0.8926\n",
      "Epoch 146/200\n",
      "4806/4806 - 2s - loss: 0.4514 - accuracy: 0.8951\n",
      "Epoch 147/200\n",
      "4806/4806 - 2s - loss: 0.4492 - accuracy: 0.8955\n",
      "Epoch 148/200\n",
      "4806/4806 - 2s - loss: 0.4394 - accuracy: 0.8960\n",
      "Epoch 149/200\n",
      "4806/4806 - 2s - loss: 0.4337 - accuracy: 0.8972\n",
      "Epoch 150/200\n",
      "4806/4806 - 2s - loss: 0.4289 - accuracy: 0.8991\n",
      "Epoch 151/200\n",
      "4806/4806 - 2s - loss: 0.4229 - accuracy: 0.8987\n",
      "Epoch 152/200\n",
      "4806/4806 - 2s - loss: 0.4199 - accuracy: 0.8972\n",
      "Epoch 153/200\n",
      "4806/4806 - 2s - loss: 0.4125 - accuracy: 0.8983\n",
      "Epoch 154/200\n",
      "4806/4806 - 2s - loss: 0.4049 - accuracy: 0.9016\n",
      "Epoch 155/200\n",
      "4806/4806 - 2s - loss: 0.4007 - accuracy: 0.9022\n",
      "Epoch 156/200\n",
      "4806/4806 - 2s - loss: 0.3959 - accuracy: 0.9005\n",
      "Epoch 157/200\n",
      "4806/4806 - 2s - loss: 0.3908 - accuracy: 0.9007\n",
      "Epoch 158/200\n",
      "4806/4806 - 2s - loss: 0.3873 - accuracy: 0.9035\n",
      "Epoch 159/200\n",
      "4806/4806 - 2s - loss: 0.3837 - accuracy: 0.9035\n",
      "Epoch 160/200\n",
      "4806/4806 - 2s - loss: 0.3783 - accuracy: 0.9035\n",
      "Epoch 161/200\n",
      "4806/4806 - 2s - loss: 0.3744 - accuracy: 0.9043\n",
      "Epoch 162/200\n",
      "4806/4806 - 2s - loss: 0.3690 - accuracy: 0.9030\n",
      "Epoch 163/200\n",
      "4806/4806 - 2s - loss: 0.3661 - accuracy: 0.9030\n",
      "Epoch 164/200\n",
      "4806/4806 - 2s - loss: 0.3770 - accuracy: 0.9018\n",
      "Epoch 165/200\n",
      "4806/4806 - 2s - loss: 0.3661 - accuracy: 0.9035\n",
      "Epoch 166/200\n",
      "4806/4806 - 2s - loss: 0.3698 - accuracy: 0.9020\n",
      "Epoch 167/200\n",
      "4806/4806 - 2s - loss: 0.3545 - accuracy: 0.9053\n",
      "Epoch 168/200\n",
      "4806/4806 - 2s - loss: 0.3490 - accuracy: 0.9045\n",
      "Epoch 169/200\n",
      "4806/4806 - 2s - loss: 0.3439 - accuracy: 0.9049\n",
      "Epoch 170/200\n",
      "4806/4806 - 2s - loss: 0.3400 - accuracy: 0.9076\n",
      "Epoch 171/200\n",
      "4806/4806 - 2s - loss: 0.3383 - accuracy: 0.9062\n",
      "Epoch 172/200\n",
      "4806/4806 - 2s - loss: 0.3363 - accuracy: 0.9078\n",
      "Epoch 173/200\n",
      "4806/4806 - 2s - loss: 0.3316 - accuracy: 0.9060\n",
      "Epoch 174/200\n",
      "4806/4806 - 2s - loss: 0.3294 - accuracy: 0.9072\n",
      "Epoch 175/200\n",
      "4806/4806 - 2s - loss: 0.3288 - accuracy: 0.9064\n",
      "Epoch 176/200\n",
      "4806/4806 - 2s - loss: 0.3298 - accuracy: 0.9043\n",
      "Epoch 177/200\n",
      "4806/4806 - 2s - loss: 0.3236 - accuracy: 0.9082\n",
      "Epoch 178/200\n",
      "4806/4806 - 2s - loss: 0.3206 - accuracy: 0.9082\n",
      "Epoch 179/200\n",
      "4806/4806 - 2s - loss: 0.3200 - accuracy: 0.9072\n",
      "Epoch 180/200\n",
      "4806/4806 - 2s - loss: 0.3174 - accuracy: 0.9066\n",
      "Epoch 181/200\n",
      "4806/4806 - 3s - loss: 0.3162 - accuracy: 0.9066\n",
      "Epoch 182/200\n",
      "4806/4806 - 3s - loss: 0.3137 - accuracy: 0.9084\n",
      "Epoch 183/200\n",
      "4806/4806 - 2s - loss: 0.3109 - accuracy: 0.9060\n",
      "Epoch 184/200\n",
      "4806/4806 - 2s - loss: 0.3087 - accuracy: 0.9082\n",
      "Epoch 185/200\n",
      "4806/4806 - 2s - loss: 0.3067 - accuracy: 0.9093\n",
      "Epoch 186/200\n",
      "4806/4806 - 2s - loss: 0.3061 - accuracy: 0.9062\n",
      "Epoch 187/200\n",
      "4806/4806 - 2s - loss: 0.3035 - accuracy: 0.9099\n",
      "Epoch 188/200\n",
      "4806/4806 - 2s - loss: 0.3028 - accuracy: 0.9099\n",
      "Epoch 189/200\n",
      "4806/4806 - 2s - loss: 0.3014 - accuracy: 0.9076\n",
      "Epoch 190/200\n",
      "4806/4806 - 2s - loss: 0.2974 - accuracy: 0.9082\n",
      "Epoch 191/200\n",
      "4806/4806 - 2s - loss: 0.2965 - accuracy: 0.9080\n",
      "Epoch 192/200\n",
      "4806/4806 - 2s - loss: 0.2955 - accuracy: 0.9089\n",
      "Epoch 193/200\n",
      "4806/4806 - 2s - loss: 0.2946 - accuracy: 0.9109\n",
      "Epoch 194/200\n",
      "4806/4806 - 2s - loss: 0.2941 - accuracy: 0.9082\n",
      "Epoch 195/200\n",
      "4806/4806 - 2s - loss: 0.2935 - accuracy: 0.9074\n",
      "Epoch 196/200\n",
      "4806/4806 - 2s - loss: 0.2925 - accuracy: 0.9062\n",
      "Epoch 197/200\n",
      "4806/4806 - 2s - loss: 0.2903 - accuracy: 0.9078\n",
      "Epoch 198/200\n",
      "4806/4806 - 2s - loss: 0.2897 - accuracy: 0.9082\n",
      "Epoch 199/200\n",
      "4806/4806 - 2s - loss: 0.2895 - accuracy: 0.9066\n",
      "Epoch 200/200\n",
      "4806/4806 - 2s - loss: 0.2892 - accuracy: 0.9099\n"
     ]
    },
    {
     "data": {
      "text/plain": [
       "<tensorflow.python.keras.callbacks.History at 0x25785bb1088>"
      ]
     },
     "execution_count": 74,
     "metadata": {},
     "output_type": "execute_result"
    }
   ],
   "source": [
    "model = Sequential()\n",
    "model.add(Embedding(vocab_size, 10, input_length = max_len-1))\n",
    "model.add(LSTM(128))\n",
    "model.add(Dense(vocab_size, activation = 'softmax'))\n",
    "model.compile(loss = 'categorical_crossentropy', optimizer = 'adam', metrics = ['accuracy'])\n",
    "model.fit(X,y, epochs = 200, verbose = 2)"
   ]
  },
  {
   "cell_type": "code",
   "execution_count": 77,
   "metadata": {},
   "outputs": [],
   "source": [
    "def sentence_generation(model, t, current_word, n):\n",
    "    init_word = current_word\n",
    "    sentence = ''\n",
    "    for _ in range(n):\n",
    "        encoded = t.texts_to_sequences([current_word])[0]\n",
    "        encoded = pad_sequences([encoded], maxlen = 18, padding = 'pre')\n",
    "        result = model.predict_classes(encoded, verbose = 0)\n",
    "        \n",
    "        for word,index in t.word_index.items():\n",
    "            if index == result:\n",
    "                break\n",
    "        current_word = current_word + ' ' + word\n",
    "        sentence = sentence + ' ' + word\n",
    "    sentence = init_word + sentence\n",
    "    return sentence"
   ]
  },
  {
   "cell_type": "code",
   "execution_count": 78,
   "metadata": {},
   "outputs": [
    {
     "name": "stdout",
     "output_type": "stream",
     "text": [
      "i survived a sarin gas attack in north korea airstrike dont\n"
     ]
    }
   ],
   "source": [
    "print(sentence_generation(model, t, 'i', 10))"
   ]
  },
  {
   "cell_type": "code",
   "execution_count": 79,
   "metadata": {},
   "outputs": [
    {
     "name": "stdout",
     "output_type": "stream",
     "text": [
      "how to be mindful when you are angry law industry day\n"
     ]
    }
   ],
   "source": [
    "print(sentence_generation(model, t, 'how', 10))"
   ]
  },
  {
   "cell_type": "code",
   "execution_count": null,
   "metadata": {},
   "outputs": [],
   "source": []
  }
 ],
 "metadata": {
  "kernelspec": {
   "display_name": "Python 3",
   "language": "python",
   "name": "python3"
  },
  "language_info": {
   "codemirror_mode": {
    "name": "ipython",
    "version": 3
   },
   "file_extension": ".py",
   "mimetype": "text/x-python",
   "name": "python",
   "nbconvert_exporter": "python",
   "pygments_lexer": "ipython3",
   "version": "3.7.6"
  }
 },
 "nbformat": 4,
 "nbformat_minor": 4
}
